{
  "nbformat": 4,
  "nbformat_minor": 0,
  "metadata": {
    "colab": {
      "provenance": []
    },
    "kernelspec": {
      "name": "python3",
      "display_name": "Python 3"
    },
    "language_info": {
      "name": "python"
    }
  },
  "cells": [
    {
      "cell_type": "code",
      "execution_count": 1,
      "metadata": {
        "colab": {
          "base_uri": "https://localhost:8080/"
        },
        "id": "YzRgvahe2RSF",
        "outputId": "5bb61b9a-5f14-4070-b161-f864d662936c"
      },
      "outputs": [
        {
          "output_type": "stream",
          "name": "stdout",
          "text": [
            "/home/moayad/Downloads/StFX TA & XP & Student/advanced-project\n"
          ]
        }
      ],
      "source": [
        "%cd /home/moayad/Downloads/StFX TA & XP & Student/advanced-project"
      ]
    },
    {
      "cell_type": "code",
      "source": [
        "!ls"
      ],
      "metadata": {
        "colab": {
          "base_uri": "https://localhost:8080/"
        },
        "id": "8BrDyDHi2YtB",
        "outputId": "29383ff3-dc64-4dc2-c699-394191136882"
      },
      "execution_count": 2,
      "outputs": [
        {
          "output_type": "stream",
          "name": "stdout",
          "text": [
            "dataset.py\t       __pycache__\t\t     results_notebooks\r\n",
            "DataSet_Splitted       README.md\t\t     trainer.py\r\n",
            "extract_embeddings.py  requirements.txt\t\t     utilities.py\r\n",
            "models\t\t       ResNet18_results_weights.pth\r\n",
            "plots\t\t       ResNet50_results_weights.pth\r\n"
          ]
        }
      ]
    },
    {
      "cell_type": "code",
      "source": [
        "from trainer import Trainer\n",
        "from models.densenet import adjustedDenseNet\n",
        "import torchvision"
      ],
      "metadata": {
        "colab": {
          "base_uri": "https://localhost:8080/"
        },
        "id": "iVb3W-4g2cUO",
        "outputId": "421e881f-ac1a-45e0-8dd3-8825f17fa87e"
      },
      "execution_count": 3,
      "outputs": [
        {
          "output_type": "stream",
          "name": "stderr",
          "text": [
            "/home/moayad/.local/lib/python3.10/site-packages/matplotlib/projections/__init__.py:63: UserWarning: Unable to import Axes3D. This may be due to multiple versions of Matplotlib being installed (e.g. as a system package and as a pip package). As a result, the 3D projection is not available.\n",
            "  warnings.warn(\"Unable to import Axes3D. This may be due to multiple versions of \"\n"
          ]
        }
      ]
    },
    {
      "cell_type": "code",
      "source": [
        "model = adjustedDenseNet()"
      ],
      "metadata": {
        "colab": {
          "base_uri": "https://localhost:8080/"
        },
        "id": "SMkArF-X2hDE",
        "outputId": "d43cd1d4-edf5-43c4-bacf-af4710d2f57a"
      },
      "execution_count": 4,
      "outputs": [
        {
          "output_type": "stream",
          "name": "stderr",
          "text": [
            "Using cache found in /home/moayad/.cache/torch/hub/pytorch_vision_v0.10.0\n",
            "/home/moayad/.local/lib/python3.10/site-packages/torchvision/models/_utils.py:208: UserWarning: The parameter 'pretrained' is deprecated since 0.13 and may be removed in the future, please use 'weights' instead.\n",
            "  warnings.warn(\n",
            "/home/moayad/.local/lib/python3.10/site-packages/torchvision/models/_utils.py:223: UserWarning: Arguments other than a weight enum or `None` for 'weights' are deprecated since 0.13 and may be removed in the future. The current behavior is equivalent to passing `weights=DenseNet121_Weights.IMAGENET1K_V1`. You can also use `weights=DenseNet121_Weights.DEFAULT` to get the most up-to-date weights.\n",
            "  warnings.warn(msg)\n"
          ]
        }
      ]
    },
    {
      "cell_type": "code",
      "source": [
        "model_trainer = Trainer(model=model)"
      ],
      "metadata": {
        "id": "DDE2VPIU2l5A"
      },
      "execution_count": 5,
      "outputs": []
    },
    {
      "cell_type": "code",
      "source": [
        "model_trainer.train()"
      ],
      "metadata": {
        "colab": {
          "base_uri": "https://localhost:8080/"
        },
        "id": "oc-TvXo52qeV",
        "outputId": "e4bfbd20-8e2b-4ce0-e21d-9d2e0c3df4e3"
      },
      "execution_count": 6,
      "outputs": [
        {
          "output_type": "stream",
          "name": "stderr",
          "text": [
            "100%|██████████████████████████████| 855/855 [04:28<00:00,  3.18it/s, loss=1.33]\n",
            "100%|█████████████████████████████████████████| 108/108 [00:10<00:00, 10.28it/s]\n"
          ]
        },
        {
          "output_type": "stream",
          "name": "stdout",
          "text": [
            "INFO | Model Saved to 0_best_model_weights.pth\n",
            "INFO | [EPOCH 1] Training Loss= 1.3963328229056464 Validation Loss=1.304090308251782 | Training Accuracy=0.8856725096702576 val=0.9935747385025024\n"
          ]
        },
        {
          "output_type": "stream",
          "name": "stderr",
          "text": [
            "100%|██████████████████████████████| 855/855 [04:27<00:00,  3.19it/s, loss=1.29]\n",
            "100%|█████████████████████████████████████████| 108/108 [00:10<00:00, 10.43it/s]"
          ]
        },
        {
          "output_type": "stream",
          "name": "stdout",
          "text": [
            "INFO | [EPOCH 2] Training Loss= 1.3101119795737908 Validation Loss=1.31673564977735 | Training Accuracy=0.9653299450874329 val=0.9783878326416016\n"
          ]
        },
        {
          "output_type": "stream",
          "name": "stderr",
          "text": [
            "\n",
            "100%|███████████████████████████████| 855/855 [04:28<00:00,  3.19it/s, loss=1.3]\n",
            "100%|█████████████████████████████████████████| 108/108 [00:10<00:00, 10.45it/s]"
          ]
        },
        {
          "output_type": "stream",
          "name": "stdout",
          "text": [
            "INFO | [EPOCH 3] Training Loss= 1.3026091143401743 Validation Loss=1.3131402318722734 | Training Accuracy=0.9725877046585083 val=0.9830607175827026\n"
          ]
        },
        {
          "output_type": "stream",
          "name": "stderr",
          "text": [
            "\n",
            "100%|███████████████████████████████| 855/855 [04:27<00:00,  3.19it/s, loss=1.3]\n",
            "100%|█████████████████████████████████████████| 108/108 [00:10<00:00, 10.51it/s]"
          ]
        },
        {
          "output_type": "stream",
          "name": "stdout",
          "text": [
            "INFO | [EPOCH 4] Training Loss= 1.2963472795765303 Validation Loss=1.3048586633717902 | Training Accuracy=0.9787280559539795 val=0.9906541705131531\n"
          ]
        },
        {
          "output_type": "stream",
          "name": "stderr",
          "text": [
            "\n",
            "100%|███████████████████████████████| 855/855 [04:27<00:00,  3.19it/s, loss=1.3]\n",
            "100%|█████████████████████████████████████████| 108/108 [00:10<00:00, 10.53it/s]"
          ]
        },
        {
          "output_type": "stream",
          "name": "stdout",
          "text": [
            "INFO | [EPOCH 5] Training Loss= 1.2962438007544357 Validation Loss=1.3103556956086204 | Training Accuracy=0.9779239892959595 val=0.985981285572052\n"
          ]
        },
        {
          "output_type": "stream",
          "name": "stderr",
          "text": [
            "\n",
            "100%|██████████████████████████████| 855/855 [04:27<00:00,  3.19it/s, loss=1.31]\n",
            "100%|█████████████████████████████████████████| 108/108 [00:10<00:00, 10.08it/s]\n"
          ]
        },
        {
          "output_type": "stream",
          "name": "stdout",
          "text": [
            "INFO | Model Saved to 5_best_model_weights.pth\n",
            "INFO | [EPOCH 6] Training Loss= 1.2914517477939003 Validation Loss=1.2989489597694897 | Training Accuracy=0.9834064245223999 val=0.9970794320106506\n"
          ]
        },
        {
          "output_type": "stream",
          "name": "stderr",
          "text": [
            "100%|██████████████████████████████| 855/855 [04:28<00:00,  3.18it/s, loss=1.27]\n",
            "100%|█████████████████████████████████████████| 108/108 [00:10<00:00, 10.49it/s]\n"
          ]
        },
        {
          "output_type": "stream",
          "name": "stdout",
          "text": [
            "INFO | Model Saved to 6_best_model_weights.pth\n",
            "INFO | [EPOCH 7] Training Loss= 1.291327656918799 Validation Loss=1.2958649953949117 | Training Accuracy=0.9828216433525085 val=0.9994158744812012\n"
          ]
        },
        {
          "output_type": "stream",
          "name": "stderr",
          "text": [
            "100%|███████████████████████████████| 855/855 [04:27<00:00,  3.20it/s, loss=1.3]\n",
            "100%|█████████████████████████████████████████| 108/108 [00:10<00:00, 10.34it/s]\n"
          ]
        },
        {
          "output_type": "stream",
          "name": "stdout",
          "text": [
            "INFO | Model Saved to 7_best_model_weights.pth\n",
            "INFO | [EPOCH 8] Training Loss= 1.2917679273594194 Validation Loss=1.2960139100796708 | Training Accuracy=0.9821637272834778 val=0.9999999403953552\n"
          ]
        },
        {
          "output_type": "stream",
          "name": "stderr",
          "text": [
            "100%|███████████████████████████████| 855/855 [04:28<00:00,  3.19it/s, loss=1.3]\n",
            "100%|█████████████████████████████████████████| 108/108 [00:10<00:00, 10.43it/s]"
          ]
        },
        {
          "output_type": "stream",
          "name": "stdout",
          "text": [
            "INFO | [EPOCH 9] Training Loss= 1.290765589022497 Validation Loss=1.2969645874522557 | Training Accuracy=0.9833333492279053 val=0.9994158744812012\n"
          ]
        },
        {
          "output_type": "stream",
          "name": "stderr",
          "text": [
            "\n",
            "100%|██████████████████████████████| 855/855 [04:27<00:00,  3.19it/s, loss=1.29]\n",
            "100%|█████████████████████████████████████████| 108/108 [00:10<00:00, 10.19it/s]"
          ]
        },
        {
          "output_type": "stream",
          "name": "stdout",
          "text": [
            "INFO | [EPOCH 10] Training Loss= 1.2890874869642202 Validation Loss=1.2998497018190187 | Training Accuracy=0.9850146174430847 val=0.995911180973053\n"
          ]
        },
        {
          "output_type": "stream",
          "name": "stderr",
          "text": [
            "\n"
          ]
        }
      ]
    },
    {
      "cell_type": "code",
      "source": [
        "model_trainer.plotMetrics()"
      ],
      "metadata": {
        "colab": {
          "base_uri": "https://localhost:8080/",
          "height": 391
        },
        "id": "cpUGzZ1X2q29",
        "outputId": "bc1f5fcc-c160-45af-95ff-fce81272764c"
      },
      "execution_count": 7,
      "outputs": [
        {
          "output_type": "display_data",
          "data": {
            "text/plain": [
              "<Figure size 864x360 with 2 Axes>"
            ],
            "image/png": "[encoded data removed]"
          },
          "metadata": {
            "needs_background": "light"
          }
        }
      ]
    },
    {
      "cell_type": "code",
      "source": [
        "model_trainer.test(best_model_weights_path=\"/home/moayad/Downloads/StFX TA & XP & Student/advanced-project/7_best_model_weights.pth\") #pick up the path"
      ],
      "metadata": {
        "colab": {
          "base_uri": "https://localhost:8080/"
        },
        "id": "VOzfKWqwDH0D",
        "outputId": "a1c67b84-3f17-44c1-d738-197b8efecb51"
      },
      "execution_count": 8,
      "outputs": [
        {
          "output_type": "stream",
          "name": "stderr",
          "text": [
            "/home/moayad/Downloads/StFX TA & XP & Student/advanced-project/trainer.py:162: FutureWarning: You are using `torch.load` with `weights_only=False` (the current default value), which uses the default pickle module implicitly. It is possible to construct malicious pickle data which will execute arbitrary code during unpickling (See https://github.com/pytorch/pytorch/blob/main/SECURITY.md#untrusted-models for more details). In a future release, the default value for `weights_only` will be flipped to `True`. This limits the functions that could be executed during unpickling. Arbitrary objects will no longer be allowed to be loaded via this mode unless they are explicitly allowlisted by the user via `torch.serialization.add_safe_globals`. We recommend you start setting `weights_only=True` for any use case where you don't have full control of the loaded file. Please open an issue on GitHub for any issues related to this experimental feature.\n",
            "  self.model.load_state_dict(torch.load(best_model_weights_path))\n"
          ]
        },
        {
          "output_type": "stream",
          "name": "stdout",
          "text": [
            "Model into the path is loaded.\n"
          ]
        },
        {
          "output_type": "stream",
          "name": "stderr",
          "text": [
            "100%|█████████████████████████████████████████| 108/108 [00:09<00:00, 11.17it/s]"
          ]
        },
        {
          "output_type": "stream",
          "name": "stdout",
          "text": [
            "INFO | Test accuracy: 99.07408142089844%\n"
          ]
        },
        {
          "output_type": "stream",
          "name": "stderr",
          "text": [
            "\n"
          ]
        }
      ]
    },
    {
      "cell_type": "code",
      "source": [],
      "metadata": {
        "id": "WMaLUmjaDM6p"
      },
      "execution_count": null,
      "outputs": []
    }
  ]
}