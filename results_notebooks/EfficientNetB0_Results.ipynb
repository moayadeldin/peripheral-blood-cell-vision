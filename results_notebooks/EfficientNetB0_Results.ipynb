{
  "nbformat": 4,
  "nbformat_minor": 0,
  "metadata": {
    "colab": {
      "provenance": []
    },
    "kernelspec": {
      "name": "python3",
      "display_name": "Python 3"
    },
    "language_info": {
      "name": "python"
    }
  },
  "cells": [
    {
      "cell_type": "code",
      "execution_count": 1,
      "metadata": {
        "colab": {
          "base_uri": "https://localhost:8080/"
        },
        "id": "YzRgvahe2RSF",
        "outputId": "0f337eac-ad70-4f6d-c0d9-497e6d1d3ec8"
      },
      "outputs": [
        {
          "output_type": "stream",
          "name": "stdout",
          "text": [
            "/home/moayad/Downloads/StFX TA & XP & Student/advanced-project\n"
          ]
        }
      ],
      "source": [
        "%cd /home/moayad/Downloads/StFX TA & XP & Student/advanced-project"
      ]
    },
    {
      "cell_type": "code",
      "source": [
        "!ls"
      ],
      "metadata": {
        "colab": {
          "base_uri": "https://localhost:8080/"
        },
        "id": "8BrDyDHi2YtB",
        "outputId": "78705652-6e5f-4a05-89d0-86212f782b77"
      },
      "execution_count": 2,
      "outputs": [
        {
          "output_type": "stream",
          "name": "stdout",
          "text": [
            "0_best_model_weights.pth\t models\t\t   ResNet18_results_weights.pth\r\n",
            "dataset.py\t\t\t plots\t\t   ResNet50_results_weights.pth\r\n",
            "DataSet_Splitted\t\t __pycache__\t   results_notebooks\r\n",
            "DenseNet121_results_weights.pth  README.md\t   trainer.py\r\n",
            "extract_embeddings.py\t\t requirements.txt  utilities.py\r\n"
          ]
        }
      ]
    },
    {
      "cell_type": "code",
      "source": [
        "from trainer import Trainer\n",
        "from models.efficientnet import adjustedEfficientNet\n",
        "import torchvision"
      ],
      "metadata": {
        "colab": {
          "base_uri": "https://localhost:8080/"
        },
        "id": "iVb3W-4g2cUO",
        "outputId": "69344955-93a1-48da-fb6d-b3022e40a10c"
      },
      "execution_count": 3,
      "outputs": [
        {
          "output_type": "stream",
          "name": "stderr",
          "text": [
            "/home/moayad/.local/lib/python3.10/site-packages/matplotlib/projections/__init__.py:63: UserWarning: Unable to import Axes3D. This may be due to multiple versions of Matplotlib being installed (e.g. as a system package and as a pip package). As a result, the 3D projection is not available.\n",
            "  warnings.warn(\"Unable to import Axes3D. This may be due to multiple versions of \"\n"
          ]
        }
      ]
    },
    {
      "cell_type": "code",
      "source": [
        "model = adjustedEfficientNet()"
      ],
      "metadata": {
        "colab": {
          "base_uri": "https://localhost:8080/"
        },
        "id": "SMkArF-X2hDE",
        "outputId": "37f6dbb5-a55d-4b99-e976-a0f10881899a"
      },
      "execution_count": 4,
      "outputs": [
        {
          "output_type": "stream",
          "name": "stderr",
          "text": [
            "Using cache found in /home/moayad/.cache/torch/hub/NVIDIA_DeepLearningExamples_torchhub\n",
            "/home/moayad/.cache/torch/hub/NVIDIA_DeepLearningExamples_torchhub/PyTorch/Classification/ConvNets/image_classification/models/common.py:13: UserWarning: pytorch_quantization module not found, quantization will not be available\n",
            "  warnings.warn(\n",
            "/home/moayad/.cache/torch/hub/NVIDIA_DeepLearningExamples_torchhub/PyTorch/Classification/ConvNets/image_classification/models/efficientnet.py:17: UserWarning: pytorch_quantization module not found, quantization will not be available\n",
            "  warnings.warn(\n"
          ]
        }
      ]
    },
    {
      "cell_type": "code",
      "source": [
        "model_trainer = Trainer(model=model)"
      ],
      "metadata": {
        "id": "DDE2VPIU2l5A"
      },
      "execution_count": 5,
      "outputs": []
    },
    {
      "cell_type": "code",
      "source": [
        "model_trainer.train()"
      ],
      "metadata": {
        "colab": {
          "base_uri": "https://localhost:8080/"
        },
        "id": "oc-TvXo52qeV",
        "outputId": "33a5887c-1d4c-4eee-9c89-e8e4319dd204"
      },
      "execution_count": 6,
      "outputs": [
        {
          "output_type": "stream",
          "name": "stderr",
          "text": [
            "100%|██████████████████████████████| 855/855 [02:12<00:00,  6.45it/s, loss=1.34]\n",
            "100%|█████████████████████████████████████████| 108/108 [00:04<00:00, 21.90it/s]\n"
          ]
        },
        {
          "output_type": "stream",
          "name": "stdout",
          "text": [
            "INFO | Model Saved to 0_best_model_weights.pth\n",
            "INFO | [EPOCH 1] Training Loss= 1.4052625170925208 Validation Loss=1.3165805997135482 | Training Accuracy=0.8859649300575256 val=0.9795560240745544\n"
          ]
        },
        {
          "output_type": "stream",
          "name": "stderr",
          "text": [
            "100%|██████████████████████████████| 855/855 [02:12<00:00,  6.47it/s, loss=1.28]\n",
            "100%|█████████████████████████████████████████| 108/108 [00:04<00:00, 23.00it/s]"
          ]
        },
        {
          "output_type": "stream",
          "name": "stdout",
          "text": [
            "INFO | Model Saved to 1_best_model_weights.pth\n",
            "INFO | [EPOCH 2] Training Loss= 1.3072421472672133 Validation Loss=1.3026804456086916 | Training Accuracy=0.9681286215782166 val=0.9935747385025024\n"
          ]
        },
        {
          "output_type": "stream",
          "name": "stderr",
          "text": [
            "\n",
            "100%|███████████████████████████████| 855/855 [02:11<00:00,  6.49it/s, loss=1.3]\n",
            "100%|█████████████████████████████████████████| 108/108 [00:04<00:00, 22.07it/s]"
          ]
        },
        {
          "output_type": "stream",
          "name": "stdout",
          "text": [
            "INFO | [EPOCH 3] Training Loss= 1.2975800512826932 Validation Loss=1.307677440554182 | Training Accuracy=0.9771929979324341 val=0.9871494770050049\n"
          ]
        },
        {
          "output_type": "stream",
          "name": "stderr",
          "text": [
            "\n",
            "100%|██████████████████████████████| 855/855 [02:12<00:00,  6.47it/s, loss=1.32]\n",
            "100%|█████████████████████████████████████████| 108/108 [00:04<00:00, 23.07it/s]"
          ]
        },
        {
          "output_type": "stream",
          "name": "stdout",
          "text": [
            "INFO | [EPOCH 4] Training Loss= 1.2932221006928828 Validation Loss=1.3112309981729382 | Training Accuracy=0.9814327359199524 val=0.9848130345344543\n"
          ]
        },
        {
          "output_type": "stream",
          "name": "stderr",
          "text": [
            "\n",
            "100%|██████████████████████████████| 855/855 [02:12<00:00,  6.46it/s, loss=1.28]\n",
            "100%|█████████████████████████████████████████| 108/108 [00:04<00:00, 21.61it/s]"
          ]
        },
        {
          "output_type": "stream",
          "name": "stdout",
          "text": [
            "INFO | [EPOCH 5] Training Loss= 1.2902907395223429 Validation Loss=1.3026551542995133 | Training Accuracy=0.9841164946556091 val=0.9929906129837036\n"
          ]
        },
        {
          "output_type": "stream",
          "name": "stderr",
          "text": [
            "\n",
            "100%|██████████████████████████████| 855/855 [02:12<00:00,  6.43it/s, loss=1.27]\n",
            "100%|█████████████████████████████████████████| 108/108 [00:04<00:00, 22.36it/s]"
          ]
        },
        {
          "output_type": "stream",
          "name": "stdout",
          "text": [
            "INFO | Model Saved to 5_best_model_weights.pth\n",
            "INFO | [EPOCH 6] Training Loss= 1.286059079811587 Validation Loss=1.2977138624013027 | Training Accuracy=0.988450288772583 val=0.9976634979248047\n"
          ]
        },
        {
          "output_type": "stream",
          "name": "stderr",
          "text": [
            "\n",
            "100%|██████████████████████████████| 855/855 [02:12<00:00,  6.45it/s, loss=1.28]\n",
            "100%|█████████████████████████████████████████| 108/108 [00:04<00:00, 21.94it/s]"
          ]
        },
        {
          "output_type": "stream",
          "name": "stdout",
          "text": [
            "INFO | [EPOCH 7] Training Loss= 1.2872768491332294 Validation Loss=1.304191327540674 | Training Accuracy=0.9872806668281555 val=0.9900700449943542\n"
          ]
        },
        {
          "output_type": "stream",
          "name": "stderr",
          "text": [
            "\n",
            "100%|██████████████████████████████| 855/855 [02:12<00:00,  6.43it/s, loss=1.29]\n",
            "100%|█████████████████████████████████████████| 108/108 [00:05<00:00, 21.45it/s]"
          ]
        },
        {
          "output_type": "stream",
          "name": "stdout",
          "text": [
            "INFO | [EPOCH 8] Training Loss= 1.2863548334579022 Validation Loss=1.30568839567844 | Training Accuracy=0.9877192974090576 val=0.9894859790802002\n"
          ]
        },
        {
          "output_type": "stream",
          "name": "stderr",
          "text": [
            "\n",
            "100%|██████████████████████████████| 855/855 [02:13<00:00,  6.43it/s, loss=1.27]\n",
            "100%|█████████████████████████████████████████| 108/108 [00:04<00:00, 21.75it/s]\n"
          ]
        },
        {
          "output_type": "stream",
          "name": "stdout",
          "text": [
            "INFO | Model Saved to 8_best_model_weights.pth\n",
            "INFO | [EPOCH 9] Training Loss= 1.2857302594603153 Validation Loss=1.2975633835124079 | Training Accuracy=0.9882831573486328 val=0.9988317489624023\n"
          ]
        },
        {
          "output_type": "stream",
          "name": "stderr",
          "text": [
            "100%|██████████████████████████████| 855/855 [02:13<00:00,  6.43it/s, loss=1.29]\n",
            "100%|█████████████████████████████████████████| 108/108 [00:04<00:00, 22.61it/s]"
          ]
        },
        {
          "output_type": "stream",
          "name": "stdout",
          "text": [
            "INFO | [EPOCH 10] Training Loss= 1.2842749793627108 Validation Loss=1.3074184778694795 | Training Accuracy=0.9894005656242371 val=0.9877336025238037\n"
          ]
        },
        {
          "output_type": "stream",
          "name": "stderr",
          "text": [
            "\n"
          ]
        }
      ]
    },
    {
      "cell_type": "code",
      "source": [
        "model_trainer.plotMetrics()"
      ],
      "metadata": {
        "colab": {
          "base_uri": "https://localhost:8080/",
          "height": 371
        },
        "id": "cpUGzZ1X2q29",
        "outputId": "d8b9bbee-1a3d-44a9-fe35-53d51811eb5a"
      },
      "execution_count": 7,
      "outputs": [
        {
          "output_type": "display_data",
          "data": {
            "text/plain": [
              "<Figure size 864x360 with 2 Axes>"
            ],
            "image/png": "[encoded data removed]"
          },
          "metadata": {
            "needs_background": "light"
          }
        }
      ]
    },
    {
      "cell_type": "code",
      "source": [
        "model_trainer.test(best_model_weights_path=\"/home/moayad/Downloads/StFX TA & XP & Student/advanced-project/8_best_model_weights.pth\") #pick up the path"
      ],
      "metadata": {
        "colab": {
          "base_uri": "https://localhost:8080/"
        },
        "id": "VOzfKWqwDH0D",
        "outputId": "6512cc2a-eb2a-4524-a663-6bea3fa872a8"
      },
      "execution_count": 8,
      "outputs": [
        {
          "output_type": "stream",
          "name": "stdout",
          "text": [
            "Model into the path is loaded.\n"
          ]
        },
        {
          "output_type": "stream",
          "name": "stderr",
          "text": [
            "/home/moayad/Downloads/StFX TA & XP & Student/advanced-project/trainer.py:162: FutureWarning: You are using `torch.load` with `weights_only=False` (the current default value), which uses the default pickle module implicitly. It is possible to construct malicious pickle data which will execute arbitrary code during unpickling (See https://github.com/pytorch/pytorch/blob/main/SECURITY.md#untrusted-models for more details). In a future release, the default value for `weights_only` will be flipped to `True`. This limits the functions that could be executed during unpickling. Arbitrary objects will no longer be allowed to be loaded via this mode unless they are explicitly allowlisted by the user via `torch.serialization.add_safe_globals`. We recommend you start setting `weights_only=True` for any use case where you don't have full control of the loaded file. Please open an issue on GitHub for any issues related to this experimental feature.\n",
            "  self.model.load_state_dict(torch.load(best_model_weights_path))\n",
            "100%|█████████████████████████████████████████| 108/108 [00:04<00:00, 25.91it/s]"
          ]
        },
        {
          "output_type": "stream",
          "name": "stdout",
          "text": [
            "INFO | Test accuracy: 98.95832824707031%\n"
          ]
        },
        {
          "output_type": "stream",
          "name": "stderr",
          "text": [
            "\n"
          ]
        }
      ]
    },
    {
      "cell_type": "code",
      "source": [],
      "metadata": {
        "id": "WMaLUmjaDM6p"
      },
      "execution_count": null,
      "outputs": []
    }
  ]
}