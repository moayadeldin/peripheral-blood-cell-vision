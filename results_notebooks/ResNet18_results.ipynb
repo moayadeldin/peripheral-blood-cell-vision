{
  "cells": [
    {
      "cell_type": "code",
      "source": [
        "%cd /home/moayad/Downloads/StFX TA & XP & Student/advanced-project"
      ],
      "metadata": {
        "colab": {
          "base_uri": "https://localhost:8080/"
        },
        "id": "raQfl87Z2aXm",
        "outputId": "404874a1-4588-4dce-bc70-5dbcffdcaa54"
      },
      "execution_count": 1,
      "outputs": [
        {
          "output_type": "stream",
          "name": "stdout",
          "text": [
            "/home/moayad/Downloads/StFX TA & XP & Student/advanced-project\n"
          ]
        }
      ]
    },
    {
      "cell_type": "code",
      "execution_count": 2,
      "metadata": {
        "colab": {
          "base_uri": "https://localhost:8080/"
        },
        "id": "YEWzaaIkwOOV",
        "outputId": "73ab4689-7138-4eef-edc7-9afd38f73054"
      },
      "outputs": [
        {
          "output_type": "stream",
          "name": "stdout",
          "text": [
            "0_best_model_weights.pth  DataSet_Splitted\t\tresnet.py\r\n",
            "2_best_model_weights.pth  plots\t\t\t\tresults_notebooks\r\n",
            "4_best_model_weights.pth  __pycache__\t\t\ttrainer.py\r\n",
            "5_best_model_weights.pth  README.md\t\t\tutilities.py\r\n",
            "9_best_model_weights.pth  requirements.txt\r\n",
            "dataset.py\t\t  ResNet50_results_weights.pth\r\n"
          ]
        }
      ],
      "source": [
        "!ls"
      ]
    },
    {
      "cell_type": "code",
      "source": [
        "from trainer import Trainer\n",
        "from resnet import adjustedResNet\n",
        "import torchvision\n",
        "from torchvision.models import ResNet18_Weights"
      ],
      "metadata": {
        "colab": {
          "base_uri": "https://localhost:8080/"
        },
        "id": "yyO6H3wJKRoR",
        "outputId": "c50182e8-d42b-4c94-a4e5-f04c988bdb86"
      },
      "execution_count": 3,
      "outputs": [
        {
          "output_type": "stream",
          "name": "stderr",
          "text": [
            "/home/moayad/.local/lib/python3.10/site-packages/matplotlib/projections/__init__.py:63: UserWarning: Unable to import Axes3D. This may be due to multiple versions of Matplotlib being installed (e.g. as a system package and as a pip package). As a result, the 3D projection is not available.\n",
            "  warnings.warn(\"Unable to import Axes3D. This may be due to multiple versions of \"\n"
          ]
        }
      ]
    },
    {
      "cell_type": "code",
      "source": [
        "model = adjustedResNet(weights=ResNet18_Weights.IMAGENET1K_V1, pretrained_resnet=torchvision.models.resnet18, fc1_input=512)"
      ],
      "metadata": {
        "id": "lCOnZg4To0XQ",
        "colab": {
          "base_uri": "https://localhost:8080/"
        },
        "outputId": "dc42df5b-f815-42da-a9bc-481765426cf4"
      },
      "execution_count": 4,
      "outputs": [
        {
          "output_type": "stream",
          "name": "stderr",
          "text": [
            "/home/moayad/.local/lib/python3.10/site-packages/torchvision/models/_utils.py:135: UserWarning: Using 'weights' as positional parameter(s) is deprecated since 0.13 and may be removed in the future. Please use keyword parameter(s) instead.\n",
            "  warnings.warn(\n"
          ]
        }
      ]
    },
    {
      "cell_type": "code",
      "source": [
        "model_trainer = Trainer(model=model)"
      ],
      "metadata": {
        "id": "9hNv2HkBHvpY"
      },
      "execution_count": 5,
      "outputs": []
    },
    {
      "cell_type": "code",
      "source": [
        "model_trainer.train()"
      ],
      "metadata": {
        "colab": {
          "base_uri": "https://localhost:8080/"
        },
        "id": "M1vMe4dUH56h",
        "outputId": "2adba037-9555-4df4-eb2a-47e290cd4bf6"
      },
      "execution_count": 7,
      "outputs": [
        {
          "output_type": "stream",
          "name": "stderr",
          "text": [
            "100%|███████████████████████████████| 855/855 [01:27<00:00,  9.74it/s, loss=1.3]\n",
            "100%|█████████████████████████████████████████| 108/108 [00:04<00:00, 25.11it/s]\n"
          ]
        },
        {
          "output_type": "stream",
          "name": "stdout",
          "text": [
            "INFO | Model Saved to 0_best_model_weights.pth\n",
            "INFO | [EPOCH 1] Training Loss= 1.3847050008718034 Validation Loss=1.3209638818402156 | Training Accuracy=0.8957915902137756 val=0.9766354560852051\n"
          ]
        },
        {
          "output_type": "stream",
          "name": "stderr",
          "text": [
            "100%|██████████████████████████████| 855/855 [01:26<00:00,  9.83it/s, loss=1.32]\n",
            "100%|█████████████████████████████████████████| 108/108 [00:04<00:00, 25.54it/s]\n"
          ]
        },
        {
          "output_type": "stream",
          "name": "stdout",
          "text": [
            "INFO | Model Saved to 1_best_model_weights.pth\n",
            "INFO | [EPOCH 2] Training Loss= 1.3128082421787999 Validation Loss=1.3172895284456627 | Training Accuracy=0.9624790549278259 val=0.9795560240745544\n"
          ]
        },
        {
          "output_type": "stream",
          "name": "stderr",
          "text": [
            "100%|██████████████████████████████| 855/855 [02:20<00:00,  6.06it/s, loss=1.32]\n",
            "100%|█████████████████████████████████████████| 108/108 [00:10<00:00, 10.11it/s]\n"
          ]
        },
        {
          "output_type": "stream",
          "name": "stdout",
          "text": [
            "INFO | Model Saved to 2_best_model_weights.pth\n",
            "INFO | [EPOCH 3] Training Loss= 1.308937092273556 Validation Loss=1.3075167698280834 | Training Accuracy=0.9662280678749084 val=0.9889018535614014\n"
          ]
        },
        {
          "output_type": "stream",
          "name": "stderr",
          "text": [
            "100%|██████████████████████████████| 855/855 [03:47<00:00,  3.76it/s, loss=1.31]\n",
            "100%|█████████████████████████████████████████| 108/108 [00:10<00:00, 10.33it/s]"
          ]
        },
        {
          "output_type": "stream",
          "name": "stdout",
          "text": [
            "INFO | [EPOCH 4] Training Loss= 1.3043504381737514 Validation Loss=1.310677050430084 | Training Accuracy=0.9698099493980408 val=0.9842289686203003\n"
          ]
        },
        {
          "output_type": "stream",
          "name": "stderr",
          "text": [
            "\n",
            "100%|██████████████████████████████| 855/855 [03:46<00:00,  3.77it/s, loss=1.31]\n",
            "100%|█████████████████████████████████████████| 108/108 [00:10<00:00, 10.30it/s]"
          ]
        },
        {
          "output_type": "stream",
          "name": "stdout",
          "text": [
            "INFO | [EPOCH 5] Training Loss= 1.3005742634946142 Validation Loss=1.3090758769311637 | Training Accuracy=0.9736841917037964 val=0.985981285572052\n"
          ]
        },
        {
          "output_type": "stream",
          "name": "stderr",
          "text": [
            "\n",
            "100%|██████████████████████████████| 855/855 [03:47<00:00,  3.75it/s, loss=1.33]\n",
            "100%|█████████████████████████████████████████| 108/108 [00:10<00:00, 10.49it/s]"
          ]
        },
        {
          "output_type": "stream",
          "name": "stdout",
          "text": [
            "INFO | [EPOCH 6] Training Loss= 1.2988625559890479 Validation Loss=1.3116217684522968 | Training Accuracy=0.9753445982933044 val=0.9848130345344543\n"
          ]
        },
        {
          "output_type": "stream",
          "name": "stderr",
          "text": [
            "\n",
            "100%|███████████████████████████████| 855/855 [03:46<00:00,  3.77it/s, loss=1.3]\n",
            "100%|█████████████████████████████████████████| 108/108 [00:10<00:00,  9.87it/s]\n"
          ]
        },
        {
          "output_type": "stream",
          "name": "stdout",
          "text": [
            "INFO | Model Saved to 6_best_model_weights.pth\n",
            "INFO | [EPOCH 7] Training Loss= 1.2964635575723926 Validation Loss=1.3037057903325446 | Training Accuracy=0.9781432747840881 val=0.9906541705131531\n"
          ]
        },
        {
          "output_type": "stream",
          "name": "stderr",
          "text": [
            "100%|██████████████████████████████| 855/855 [03:46<00:00,  3.77it/s, loss=1.32]\n",
            "100%|█████████████████████████████████████████| 108/108 [00:10<00:00, 10.48it/s]\n"
          ]
        },
        {
          "output_type": "stream",
          "name": "stdout",
          "text": [
            "INFO | Model Saved to 7_best_model_weights.pth\n",
            "INFO | [EPOCH 8] Training Loss= 1.2950464722705863 Validation Loss=1.300074643063768 | Training Accuracy=0.9790204763412476 val=0.9947429299354553\n"
          ]
        },
        {
          "output_type": "stream",
          "name": "stderr",
          "text": [
            "100%|██████████████████████████████| 855/855 [03:47<00:00,  3.76it/s, loss=1.29]\n",
            "100%|█████████████████████████████████████████| 108/108 [00:10<00:00, 10.52it/s]"
          ]
        },
        {
          "output_type": "stream",
          "name": "stdout",
          "text": [
            "INFO | [EPOCH 9] Training Loss= 1.2932962247502735 Validation Loss=1.3033785151544017 | Training Accuracy=0.980847954750061 val=0.9918224215507507\n"
          ]
        },
        {
          "output_type": "stream",
          "name": "stderr",
          "text": [
            "\n",
            "100%|██████████████████████████████| 855/855 [03:47<00:00,  3.75it/s, loss=1.28]\n",
            "100%|█████████████████████████████████████████| 108/108 [00:10<00:00, 10.15it/s]"
          ]
        },
        {
          "output_type": "stream",
          "name": "stdout",
          "text": [
            "INFO | [EPOCH 10] Training Loss= 1.2936988968598215 Validation Loss=1.3105780521285868 | Training Accuracy=0.9802631735801697 val=0.9848130345344543\n"
          ]
        },
        {
          "output_type": "stream",
          "name": "stderr",
          "text": [
            "\n"
          ]
        }
      ]
    },
    {
      "cell_type": "code",
      "source": [
        "model_trainer.plotMetrics()"
      ],
      "metadata": {
        "colab": {
          "base_uri": "https://localhost:8080/",
          "height": 391
        },
        "id": "Wtc-7-LNuLzq",
        "outputId": "ff28de93-b8e8-4e00-b744-0270b4726e02"
      },
      "execution_count": 8,
      "outputs": [
        {
          "output_type": "display_data",
          "data": {
            "text/plain": [
              "<Figure size 864x360 with 2 Axes>"
            ],
            "image/png": "[encoded data removed]"
          },
          "metadata": {
            "needs_background": "light"
          }
        }
      ]
    },
    {
      "cell_type": "code",
      "source": [
        "model_trainer.test(best_model_weights_path=\"/home/moayad/Downloads/StFX TA & XP & Student/advanced-project/7_best_model_weights.pth\") #pick up the path"
      ],
      "metadata": {
        "colab": {
          "base_uri": "https://localhost:8080/"
        },
        "id": "ocoeXKbBIvyi",
        "outputId": "43e9cdb9-6b6d-4586-e581-478c2a26cff1"
      },
      "execution_count": 9,
      "outputs": [
        {
          "output_type": "stream",
          "name": "stdout",
          "text": [
            "Model into the path is loaded.\n"
          ]
        },
        {
          "output_type": "stream",
          "name": "stderr",
          "text": [
            "/home/moayad/Downloads/StFX TA & XP & Student/advanced-project/trainer.py:162: FutureWarning: You are using `torch.load` with `weights_only=False` (the current default value), which uses the default pickle module implicitly. It is possible to construct malicious pickle data which will execute arbitrary code during unpickling (See https://github.com/pytorch/pytorch/blob/main/SECURITY.md#untrusted-models for more details). In a future release, the default value for `weights_only` will be flipped to `True`. This limits the functions that could be executed during unpickling. Arbitrary objects will no longer be allowed to be loaded via this mode unless they are explicitly allowlisted by the user via `torch.serialization.add_safe_globals`. We recommend you start setting `weights_only=True` for any use case where you don't have full control of the loaded file. Please open an issue on GitHub for any issues related to this experimental feature.\n",
            "  self.model.load_state_dict(torch.load(best_model_weights_path))\n",
            "100%|█████████████████████████████████████████| 108/108 [00:03<00:00, 31.65it/s]"
          ]
        },
        {
          "output_type": "stream",
          "name": "stdout",
          "text": [
            "INFO | Test accuracy: 98.55323791503906%\n"
          ]
        },
        {
          "output_type": "stream",
          "name": "stderr",
          "text": [
            "\n"
          ]
        }
      ]
    },
    {
      "cell_type": "code",
      "source": [],
      "metadata": {
        "id": "cxxo1CMPI6x6"
      },
      "execution_count": null,
      "outputs": []
    }
  ],
  "metadata": {
    "colab": {
      "provenance": [],
      "gpuType": "T4"
    },
    "kernelspec": {
      "display_name": "Python 3",
      "name": "python3"
    },
    "language_info": {
      "name": "python"
    },
    "accelerator": "GPU"
  },
  "nbformat": 4,
  "nbformat_minor": 0
}