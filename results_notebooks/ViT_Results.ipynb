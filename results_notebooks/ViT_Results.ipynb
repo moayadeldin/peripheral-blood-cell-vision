{
  "nbformat": 4,
  "nbformat_minor": 0,
  "metadata": {
    "colab": {
      "provenance": [],
      "gpuType": "T4"
    },
    "kernelspec": {
      "name": "python3",
      "display_name": "Python 3"
    },
    "language_info": {
      "name": "python"
    },
    "accelerator": "GPU",
    "widgets": {
      "application/vnd.jupyter.widget-state+json": {
        "b239ba4c8c734040ae44b6abd6afd198": {
          "model_module": "@jupyter-widgets/controls",
          "model_name": "HBoxModel",
          "model_module_version": "2.0.0",
          "state": {
            "_dom_classes": [],
            "_model_module": "@jupyter-widgets/controls",
            "_model_module_version": "2.0.0",
            "_model_name": "HBoxModel",
            "_view_count": null,
            "_view_module": "@jupyter-widgets/controls",
            "_view_module_version": "2.0.0",
            "_view_name": "HBoxView",
            "box_style": "",
            "children": [
              "IPY_MODEL_def1161200ce4afa98bf608d55f6b905",
              "IPY_MODEL_48ec2bcaaa1b481d8c61e05226371f02",
              "IPY_MODEL_62a1663d19fd4dd2a7d6355d561c1ca7"
            ],
            "layout": "IPY_MODEL_88bbeeef37ec46a7bdb4b6ea92a875d8",
            "tabbable": null,
            "tooltip": null
          }
        },
        "def1161200ce4afa98bf608d55f6b905": {
          "model_module": "@jupyter-widgets/controls",
          "model_name": "HTMLModel",
          "model_module_version": "2.0.0",
          "state": {
            "_dom_classes": [],
            "_model_module": "@jupyter-widgets/controls",
            "_model_module_version": "2.0.0",
            "_model_name": "HTMLModel",
            "_view_count": null,
            "_view_module": "@jupyter-widgets/controls",
            "_view_module_version": "2.0.0",
            "_view_name": "HTMLView",
            "description": "",
            "description_allow_html": false,
            "layout": "IPY_MODEL_625bfb15dba2436f82f01dc01cb4a6f8",
            "placeholder": "​",
            "style": "IPY_MODEL_feaf4986a37c4d4b91cee070dba35f34",
            "tabbable": null,
            "tooltip": null,
            "value": "config.json: 100%"
          }
        },
        "48ec2bcaaa1b481d8c61e05226371f02": {
          "model_module": "@jupyter-widgets/controls",
          "model_name": "FloatProgressModel",
          "model_module_version": "2.0.0",
          "state": {
            "_dom_classes": [],
            "_model_module": "@jupyter-widgets/controls",
            "_model_module_version": "2.0.0",
            "_model_name": "FloatProgressModel",
            "_view_count": null,
            "_view_module": "@jupyter-widgets/controls",
            "_view_module_version": "2.0.0",
            "_view_name": "ProgressView",
            "bar_style": "success",
            "description": "",
            "description_allow_html": false,
            "layout": "IPY_MODEL_f7bc86d59bbb4da4b4a09bf10d1235a7",
            "max": 502,
            "min": 0,
            "orientation": "horizontal",
            "style": "IPY_MODEL_31a33db99a7d43dd8a274fdb3cceecc4",
            "tabbable": null,
            "tooltip": null,
            "value": 502
          }
        },
        "62a1663d19fd4dd2a7d6355d561c1ca7": {
          "model_module": "@jupyter-widgets/controls",
          "model_name": "HTMLModel",
          "model_module_version": "2.0.0",
          "state": {
            "_dom_classes": [],
            "_model_module": "@jupyter-widgets/controls",
            "_model_module_version": "2.0.0",
            "_model_name": "HTMLModel",
            "_view_count": null,
            "_view_module": "@jupyter-widgets/controls",
            "_view_module_version": "2.0.0",
            "_view_name": "HTMLView",
            "description": "",
            "description_allow_html": false,
            "layout": "IPY_MODEL_62b1782ea5be4918b320a00854aeaf0f",
            "placeholder": "​",
            "style": "IPY_MODEL_8a43beb9d13a4949aa52fbd79b09989f",
            "tabbable": null,
            "tooltip": null,
            "value": " 502/502 [00:00&lt;00:00, 42.0kB/s]"
          }
        },
        "88bbeeef37ec46a7bdb4b6ea92a875d8": {
          "model_module": "@jupyter-widgets/base",
          "model_name": "LayoutModel",
          "model_module_version": "2.0.0",
          "state": {
            "_model_module": "@jupyter-widgets/base",
            "_model_module_version": "2.0.0",
            "_model_name": "LayoutModel",
            "_view_count": null,
            "_view_module": "@jupyter-widgets/base",
            "_view_module_version": "2.0.0",
            "_view_name": "LayoutView",
            "align_content": null,
            "align_items": null,
            "align_self": null,
            "border_bottom": null,
            "border_left": null,
            "border_right": null,
            "border_top": null,
            "bottom": null,
            "display": null,
            "flex": null,
            "flex_flow": null,
            "grid_area": null,
            "grid_auto_columns": null,
            "grid_auto_flow": null,
            "grid_auto_rows": null,
            "grid_column": null,
            "grid_gap": null,
            "grid_row": null,
            "grid_template_areas": null,
            "grid_template_columns": null,
            "grid_template_rows": null,
            "height": null,
            "justify_content": null,
            "justify_items": null,
            "left": null,
            "margin": null,
            "max_height": null,
            "max_width": null,
            "min_height": null,
            "min_width": null,
            "object_fit": null,
            "object_position": null,
            "order": null,
            "overflow": null,
            "padding": null,
            "right": null,
            "top": null,
            "visibility": null,
            "width": null
          }
        },
        "625bfb15dba2436f82f01dc01cb4a6f8": {
          "model_module": "@jupyter-widgets/base",
          "model_name": "LayoutModel",
          "model_module_version": "2.0.0",
          "state": {
            "_model_module": "@jupyter-widgets/base",
            "_model_module_version": "2.0.0",
            "_model_name": "LayoutModel",
            "_view_count": null,
            "_view_module": "@jupyter-widgets/base",
            "_view_module_version": "2.0.0",
            "_view_name": "LayoutView",
            "align_content": null,
            "align_items": null,
            "align_self": null,
            "border_bottom": null,
            "border_left": null,
            "border_right": null,
            "border_top": null,
            "bottom": null,
            "display": null,
            "flex": null,
            "flex_flow": null,
            "grid_area": null,
            "grid_auto_columns": null,
            "grid_auto_flow": null,
            "grid_auto_rows": null,
            "grid_column": null,
            "grid_gap": null,
            "grid_row": null,
            "grid_template_areas": null,
            "grid_template_columns": null,
            "grid_template_rows": null,
            "height": null,
            "justify_content": null,
            "justify_items": null,
            "left": null,
            "margin": null,
            "max_height": null,
            "max_width": null,
            "min_height": null,
            "min_width": null,
            "object_fit": null,
            "object_position": null,
            "order": null,
            "overflow": null,
            "padding": null,
            "right": null,
            "top": null,
            "visibility": null,
            "width": null
          }
        },
        "feaf4986a37c4d4b91cee070dba35f34": {
          "model_module": "@jupyter-widgets/controls",
          "model_name": "HTMLStyleModel",
          "model_module_version": "2.0.0",
          "state": {
            "_model_module": "@jupyter-widgets/controls",
            "_model_module_version": "2.0.0",
            "_model_name": "HTMLStyleModel",
            "_view_count": null,
            "_view_module": "@jupyter-widgets/base",
            "_view_module_version": "2.0.0",
            "_view_name": "StyleView",
            "background": null,
            "description_width": "",
            "font_size": null,
            "text_color": null
          }
        },
        "f7bc86d59bbb4da4b4a09bf10d1235a7": {
          "model_module": "@jupyter-widgets/base",
          "model_name": "LayoutModel",
          "model_module_version": "2.0.0",
          "state": {
            "_model_module": "@jupyter-widgets/base",
            "_model_module_version": "2.0.0",
            "_model_name": "LayoutModel",
            "_view_count": null,
            "_view_module": "@jupyter-widgets/base",
            "_view_module_version": "2.0.0",
            "_view_name": "LayoutView",
            "align_content": null,
            "align_items": null,
            "align_self": null,
            "border_bottom": null,
            "border_left": null,
            "border_right": null,
            "border_top": null,
            "bottom": null,
            "display": null,
            "flex": null,
            "flex_flow": null,
            "grid_area": null,
            "grid_auto_columns": null,
            "grid_auto_flow": null,
            "grid_auto_rows": null,
            "grid_column": null,
            "grid_gap": null,
            "grid_row": null,
            "grid_template_areas": null,
            "grid_template_columns": null,
            "grid_template_rows": null,
            "height": null,
            "justify_content": null,
            "justify_items": null,
            "left": null,
            "margin": null,
            "max_height": null,
            "max_width": null,
            "min_height": null,
            "min_width": null,
            "object_fit": null,
            "object_position": null,
            "order": null,
            "overflow": null,
            "padding": null,
            "right": null,
            "top": null,
            "visibility": null,
            "width": null
          }
        },
        "31a33db99a7d43dd8a274fdb3cceecc4": {
          "model_module": "@jupyter-widgets/controls",
          "model_name": "ProgressStyleModel",
          "model_module_version": "2.0.0",
          "state": {
            "_model_module": "@jupyter-widgets/controls",
            "_model_module_version": "2.0.0",
            "_model_name": "ProgressStyleModel",
            "_view_count": null,
            "_view_module": "@jupyter-widgets/base",
            "_view_module_version": "2.0.0",
            "_view_name": "StyleView",
            "bar_color": null,
            "description_width": ""
          }
        },
        "62b1782ea5be4918b320a00854aeaf0f": {
          "model_module": "@jupyter-widgets/base",
          "model_name": "LayoutModel",
          "model_module_version": "2.0.0",
          "state": {
            "_model_module": "@jupyter-widgets/base",
            "_model_module_version": "2.0.0",
            "_model_name": "LayoutModel",
            "_view_count": null,
            "_view_module": "@jupyter-widgets/base",
            "_view_module_version": "2.0.0",
            "_view_name": "LayoutView",
            "align_content": null,
            "align_items": null,
            "align_self": null,
            "border_bottom": null,
            "border_left": null,
            "border_right": null,
            "border_top": null,
            "bottom": null,
            "display": null,
            "flex": null,
            "flex_flow": null,
            "grid_area": null,
            "grid_auto_columns": null,
            "grid_auto_flow": null,
            "grid_auto_rows": null,
            "grid_column": null,
            "grid_gap": null,
            "grid_row": null,
            "grid_template_areas": null,
            "grid_template_columns": null,
            "grid_template_rows": null,
            "height": null,
            "justify_content": null,
            "justify_items": null,
            "left": null,
            "margin": null,
            "max_height": null,
            "max_width": null,
            "min_height": null,
            "min_width": null,
            "object_fit": null,
            "object_position": null,
            "order": null,
            "overflow": null,
            "padding": null,
            "right": null,
            "top": null,
            "visibility": null,
            "width": null
          }
        },
        "8a43beb9d13a4949aa52fbd79b09989f": {
          "model_module": "@jupyter-widgets/controls",
          "model_name": "HTMLStyleModel",
          "model_module_version": "2.0.0",
          "state": {
            "_model_module": "@jupyter-widgets/controls",
            "_model_module_version": "2.0.0",
            "_model_name": "HTMLStyleModel",
            "_view_count": null,
            "_view_module": "@jupyter-widgets/base",
            "_view_module_version": "2.0.0",
            "_view_name": "StyleView",
            "background": null,
            "description_width": "",
            "font_size": null,
            "text_color": null
          }
        },
        "d944e5cb6cc04d4c95c6e2c1a299ae41": {
          "model_module": "@jupyter-widgets/controls",
          "model_name": "HBoxModel",
          "model_module_version": "2.0.0",
          "state": {
            "_dom_classes": [],
            "_model_module": "@jupyter-widgets/controls",
            "_model_module_version": "2.0.0",
            "_model_name": "HBoxModel",
            "_view_count": null,
            "_view_module": "@jupyter-widgets/controls",
            "_view_module_version": "2.0.0",
            "_view_name": "HBoxView",
            "box_style": "",
            "children": [
              "IPY_MODEL_36c4ba11dc25477db62060290fe2d8f0",
              "IPY_MODEL_a5576dbdc448406eaeff37a602a103b1",
              "IPY_MODEL_b7c193494b5142f7805b0bc396b2d2df"
            ],
            "layout": "IPY_MODEL_02a841014d2a4382abb5aed093a1e8e0",
            "tabbable": null,
            "tooltip": null
          }
        },
        "36c4ba11dc25477db62060290fe2d8f0": {
          "model_module": "@jupyter-widgets/controls",
          "model_name": "HTMLModel",
          "model_module_version": "2.0.0",
          "state": {
            "_dom_classes": [],
            "_model_module": "@jupyter-widgets/controls",
            "_model_module_version": "2.0.0",
            "_model_name": "HTMLModel",
            "_view_count": null,
            "_view_module": "@jupyter-widgets/controls",
            "_view_module_version": "2.0.0",
            "_view_name": "HTMLView",
            "description": "",
            "description_allow_html": false,
            "layout": "IPY_MODEL_2a820c8374724abda53530ce6d8974ad",
            "placeholder": "​",
            "style": "IPY_MODEL_a7838054706942f2b9f66179ac71ca9b",
            "tabbable": null,
            "tooltip": null,
            "value": "model.safetensors: 100%"
          }
        },
        "a5576dbdc448406eaeff37a602a103b1": {
          "model_module": "@jupyter-widgets/controls",
          "model_name": "FloatProgressModel",
          "model_module_version": "2.0.0",
          "state": {
            "_dom_classes": [],
            "_model_module": "@jupyter-widgets/controls",
            "_model_module_version": "2.0.0",
            "_model_name": "FloatProgressModel",
            "_view_count": null,
            "_view_module": "@jupyter-widgets/controls",
            "_view_module_version": "2.0.0",
            "_view_name": "ProgressView",
            "bar_style": "success",
            "description": "",
            "description_allow_html": false,
            "layout": "IPY_MODEL_7bc8e090def345948c984dccf3032639",
            "max": 345579424,
            "min": 0,
            "orientation": "horizontal",
            "style": "IPY_MODEL_776ee9ebc72948ffb1ce7d86d08c29c5",
            "tabbable": null,
            "tooltip": null,
            "value": 345579424
          }
        },
        "b7c193494b5142f7805b0bc396b2d2df": {
          "model_module": "@jupyter-widgets/controls",
          "model_name": "HTMLModel",
          "model_module_version": "2.0.0",
          "state": {
            "_dom_classes": [],
            "_model_module": "@jupyter-widgets/controls",
            "_model_module_version": "2.0.0",
            "_model_name": "HTMLModel",
            "_view_count": null,
            "_view_module": "@jupyter-widgets/controls",
            "_view_module_version": "2.0.0",
            "_view_name": "HTMLView",
            "description": "",
            "description_allow_html": false,
            "layout": "IPY_MODEL_e7f33d31ec9f4c5d90733a6dc62c5e69",
            "placeholder": "​",
            "style": "IPY_MODEL_57167cc1b01a46848331a6433e090e2f",
            "tabbable": null,
            "tooltip": null,
            "value": " 346M/346M [00:38&lt;00:00, 8.06MB/s]"
          }
        },
        "02a841014d2a4382abb5aed093a1e8e0": {
          "model_module": "@jupyter-widgets/base",
          "model_name": "LayoutModel",
          "model_module_version": "2.0.0",
          "state": {
            "_model_module": "@jupyter-widgets/base",
            "_model_module_version": "2.0.0",
            "_model_name": "LayoutModel",
            "_view_count": null,
            "_view_module": "@jupyter-widgets/base",
            "_view_module_version": "2.0.0",
            "_view_name": "LayoutView",
            "align_content": null,
            "align_items": null,
            "align_self": null,
            "border_bottom": null,
            "border_left": null,
            "border_right": null,
            "border_top": null,
            "bottom": null,
            "display": null,
            "flex": null,
            "flex_flow": null,
            "grid_area": null,
            "grid_auto_columns": null,
            "grid_auto_flow": null,
            "grid_auto_rows": null,
            "grid_column": null,
            "grid_gap": null,
            "grid_row": null,
            "grid_template_areas": null,
            "grid_template_columns": null,
            "grid_template_rows": null,
            "height": null,
            "justify_content": null,
            "justify_items": null,
            "left": null,
            "margin": null,
            "max_height": null,
            "max_width": null,
            "min_height": null,
            "min_width": null,
            "object_fit": null,
            "object_position": null,
            "order": null,
            "overflow": null,
            "padding": null,
            "right": null,
            "top": null,
            "visibility": null,
            "width": null
          }
        },
        "2a820c8374724abda53530ce6d8974ad": {
          "model_module": "@jupyter-widgets/base",
          "model_name": "LayoutModel",
          "model_module_version": "2.0.0",
          "state": {
            "_model_module": "@jupyter-widgets/base",
            "_model_module_version": "2.0.0",
            "_model_name": "LayoutModel",
            "_view_count": null,
            "_view_module": "@jupyter-widgets/base",
            "_view_module_version": "2.0.0",
            "_view_name": "LayoutView",
            "align_content": null,
            "align_items": null,
            "align_self": null,
            "border_bottom": null,
            "border_left": null,
            "border_right": null,
            "border_top": null,
            "bottom": null,
            "display": null,
            "flex": null,
            "flex_flow": null,
            "grid_area": null,
            "grid_auto_columns": null,
            "grid_auto_flow": null,
            "grid_auto_rows": null,
            "grid_column": null,
            "grid_gap": null,
            "grid_row": null,
            "grid_template_areas": null,
            "grid_template_columns": null,
            "grid_template_rows": null,
            "height": null,
            "justify_content": null,
            "justify_items": null,
            "left": null,
            "margin": null,
            "max_height": null,
            "max_width": null,
            "min_height": null,
            "min_width": null,
            "object_fit": null,
            "object_position": null,
            "order": null,
            "overflow": null,
            "padding": null,
            "right": null,
            "top": null,
            "visibility": null,
            "width": null
          }
        },
        "a7838054706942f2b9f66179ac71ca9b": {
          "model_module": "@jupyter-widgets/controls",
          "model_name": "HTMLStyleModel",
          "model_module_version": "2.0.0",
          "state": {
            "_model_module": "@jupyter-widgets/controls",
            "_model_module_version": "2.0.0",
            "_model_name": "HTMLStyleModel",
            "_view_count": null,
            "_view_module": "@jupyter-widgets/base",
            "_view_module_version": "2.0.0",
            "_view_name": "StyleView",
            "background": null,
            "description_width": "",
            "font_size": null,
            "text_color": null
          }
        },
        "7bc8e090def345948c984dccf3032639": {
          "model_module": "@jupyter-widgets/base",
          "model_name": "LayoutModel",
          "model_module_version": "2.0.0",
          "state": {
            "_model_module": "@jupyter-widgets/base",
            "_model_module_version": "2.0.0",
            "_model_name": "LayoutModel",
            "_view_count": null,
            "_view_module": "@jupyter-widgets/base",
            "_view_module_version": "2.0.0",
            "_view_name": "LayoutView",
            "align_content": null,
            "align_items": null,
            "align_self": null,
            "border_bottom": null,
            "border_left": null,
            "border_right": null,
            "border_top": null,
            "bottom": null,
            "display": null,
            "flex": null,
            "flex_flow": null,
            "grid_area": null,
            "grid_auto_columns": null,
            "grid_auto_flow": null,
            "grid_auto_rows": null,
            "grid_column": null,
            "grid_gap": null,
            "grid_row": null,
            "grid_template_areas": null,
            "grid_template_columns": null,
            "grid_template_rows": null,
            "height": null,
            "justify_content": null,
            "justify_items": null,
            "left": null,
            "margin": null,
            "max_height": null,
            "max_width": null,
            "min_height": null,
            "min_width": null,
            "object_fit": null,
            "object_position": null,
            "order": null,
            "overflow": null,
            "padding": null,
            "right": null,
            "top": null,
            "visibility": null,
            "width": null
          }
        },
        "776ee9ebc72948ffb1ce7d86d08c29c5": {
          "model_module": "@jupyter-widgets/controls",
          "model_name": "ProgressStyleModel",
          "model_module_version": "2.0.0",
          "state": {
            "_model_module": "@jupyter-widgets/controls",
            "_model_module_version": "2.0.0",
            "_model_name": "ProgressStyleModel",
            "_view_count": null,
            "_view_module": "@jupyter-widgets/base",
            "_view_module_version": "2.0.0",
            "_view_name": "StyleView",
            "bar_color": null,
            "description_width": ""
          }
        },
        "e7f33d31ec9f4c5d90733a6dc62c5e69": {
          "model_module": "@jupyter-widgets/base",
          "model_name": "LayoutModel",
          "model_module_version": "2.0.0",
          "state": {
            "_model_module": "@jupyter-widgets/base",
            "_model_module_version": "2.0.0",
            "_model_name": "LayoutModel",
            "_view_count": null,
            "_view_module": "@jupyter-widgets/base",
            "_view_module_version": "2.0.0",
            "_view_name": "LayoutView",
            "align_content": null,
            "align_items": null,
            "align_self": null,
            "border_bottom": null,
            "border_left": null,
            "border_right": null,
            "border_top": null,
            "bottom": null,
            "display": null,
            "flex": null,
            "flex_flow": null,
            "grid_area": null,
            "grid_auto_columns": null,
            "grid_auto_flow": null,
            "grid_auto_rows": null,
            "grid_column": null,
            "grid_gap": null,
            "grid_row": null,
            "grid_template_areas": null,
            "grid_template_columns": null,
            "grid_template_rows": null,
            "height": null,
            "justify_content": null,
            "justify_items": null,
            "left": null,
            "margin": null,
            "max_height": null,
            "max_width": null,
            "min_height": null,
            "min_width": null,
            "object_fit": null,
            "object_position": null,
            "order": null,
            "overflow": null,
            "padding": null,
            "right": null,
            "top": null,
            "visibility": null,
            "width": null
          }
        },
        "57167cc1b01a46848331a6433e090e2f": {
          "model_module": "@jupyter-widgets/controls",
          "model_name": "HTMLStyleModel",
          "model_module_version": "2.0.0",
          "state": {
            "_model_module": "@jupyter-widgets/controls",
            "_model_module_version": "2.0.0",
            "_model_name": "HTMLStyleModel",
            "_view_count": null,
            "_view_module": "@jupyter-widgets/base",
            "_view_module_version": "2.0.0",
            "_view_name": "StyleView",
            "background": null,
            "description_width": "",
            "font_size": null,
            "text_color": null
          }
        }
      }
    }
  },
  "cells": [
    {
      "cell_type": "code",
      "execution_count": 1,
      "metadata": {
        "id": "fKaLz-KSG_au"
      },
      "outputs": [],
      "source": [
        "from transformers import ViTForImageClassification"
      ]
    },
    {
      "cell_type": "code",
      "source": [
        "import torch\n",
        "import torch.nn as nn\n",
        "import torch.optim as optim\n",
        "from tqdm import tqdm\n",
        "import matplotlib.pyplot as plt\n",
        "import os\n",
        "from torch.utils.data import Dataset\n",
        "from PIL import Image\n",
        "import torchvision\n",
        "import sys\n",
        "import logging"
      ],
      "metadata": {
        "colab": {
          "base_uri": "https://localhost:8080/"
        },
        "id": "PiL1EPguHN4F",
        "outputId": "db7c3f6b-4b8f-4e53-84c4-92ff3f1ff3ff"
      },
      "execution_count": 2,
      "outputs": [
        {
          "output_type": "stream",
          "name": "stderr",
          "text": [
            "/home/moayad/.local/lib/python3.10/site-packages/matplotlib/projections/__init__.py:63: UserWarning: Unable to import Axes3D. This may be due to multiple versions of Matplotlib being installed (e.g. as a system package and as a pip package). As a result, the 3D projection is not available.\n",
            "  warnings.warn(\"Unable to import Axes3D. This may be due to multiple versions of \"\n"
          ]
        }
      ]
    },
    {
      "cell_type": "code",
      "source": [
        "model = ViTForImageClassification.from_pretrained(\"google/vit-base-patch16-224-in21k\", num_labels=8)"
      ],
      "metadata": {
        "colab": {
          "base_uri": "https://localhost:8080/",
          "height": 72,
          "referenced_widgets": [
            "b239ba4c8c734040ae44b6abd6afd198",
            "def1161200ce4afa98bf608d55f6b905",
            "48ec2bcaaa1b481d8c61e05226371f02",
            "62a1663d19fd4dd2a7d6355d561c1ca7",
            "88bbeeef37ec46a7bdb4b6ea92a875d8",
            "625bfb15dba2436f82f01dc01cb4a6f8",
            "feaf4986a37c4d4b91cee070dba35f34",
            "f7bc86d59bbb4da4b4a09bf10d1235a7",
            "31a33db99a7d43dd8a274fdb3cceecc4",
            "62b1782ea5be4918b320a00854aeaf0f",
            "8a43beb9d13a4949aa52fbd79b09989f",
            "d944e5cb6cc04d4c95c6e2c1a299ae41",
            "36c4ba11dc25477db62060290fe2d8f0",
            "a5576dbdc448406eaeff37a602a103b1",
            "b7c193494b5142f7805b0bc396b2d2df",
            "02a841014d2a4382abb5aed093a1e8e0",
            "2a820c8374724abda53530ce6d8974ad",
            "a7838054706942f2b9f66179ac71ca9b",
            "7bc8e090def345948c984dccf3032639",
            "776ee9ebc72948ffb1ce7d86d08c29c5",
            "e7f33d31ec9f4c5d90733a6dc62c5e69",
            "57167cc1b01a46848331a6433e090e2f"
          ]
        },
        "id": "xdOH2v6OHB4f",
        "outputId": "a75e04f2-4729-43e7-b062-f41973b18a9c"
      },
      "execution_count": 3,
      "outputs": [
        {
          "output_type": "display_data",
          "data": {
            "text/plain": [
              "config.json:   0%|          | 0.00/502 [00:00<?, ?B/s]"
            ],
            "application/vnd.jupyter.widget-view+json": {
              "version_major": 2,
              "version_minor": 0,
              "model_id": "b239ba4c8c734040ae44b6abd6afd198"
            }
          },
          "metadata": {}
        },
        {
          "output_type": "display_data",
          "data": {
            "text/plain": [
              "model.safetensors:   0%|          | 0.00/346M [00:00<?, ?B/s]"
            ],
            "application/vnd.jupyter.widget-view+json": {
              "version_major": 2,
              "version_minor": 0,
              "model_id": "d944e5cb6cc04d4c95c6e2c1a299ae41"
            }
          },
          "metadata": {}
        },
        {
          "output_type": "stream",
          "name": "stderr",
          "text": [
            "Some weights of ViTForImageClassification were not initialized from the model checkpoint at google/vit-base-patch16-224-in21k and are newly initialized: ['classifier.bias', 'classifier.weight']\n",
            "You should probably TRAIN this model on a down-stream task to be able to use it for predictions and inference.\n"
          ]
        }
      ]
    },
    {
      "cell_type": "code",
      "source": [
        "torch.manual_seed(42)\n",
        "\n",
        "DEVICE = torch.device(\"cuda\" if torch.cuda.is_available() else \"cpu\")\n",
        "BATCH_SIZE=16\n",
        "LEARNING_RATE=0.0001\n",
        "NUM_EPOCHS = 10\n",
        "CHECK_VAL_EVERY_N_EPOCH = 1"
      ],
      "metadata": {
        "id": "YBQkKctOHCOS"
      },
      "execution_count": 4,
      "outputs": []
    },
    {
      "cell_type": "markdown",
      "source": [
        "## Loading Dataset"
      ],
      "metadata": {
        "id": "ed6QT8TZHTBx"
      }
    },
    {
      "cell_type": "code",
      "source": [
        "transformations = torchvision.transforms.Compose([\n",
        "    # torchvision.transforms.ToPILImage(), # as I upload raw images\n",
        "\n",
        "    torchvision.transforms.Resize(size=(224,224)), # resize images to the needed size of ResNet50\n",
        "\n",
        "    torchvision.transforms.ToTensor(), # convert images to tensors\n",
        "\n",
        "    torchvision.transforms.Normalize( # image are normalized as mentioned in https://huggingface.co/google/vit-base-patch16-224\n",
        "\n",
        "        mean=[0.5, 0.5, 0.5],\n",
        "        std=[0.5, 0.5, 0.5]\n",
        "    )\n",
        "\n",
        "])"
      ],
      "metadata": {
        "id": "IEjPtLP_HtBJ"
      },
      "execution_count": 5,
      "outputs": []
    },
    {
      "cell_type": "code",
      "source": [
        "class medicalImageDataset(Dataset):\n",
        "\n",
        "    def __init__(self,root_dir, transform=None):\n",
        "\n",
        "        \"\"\"Args:\n",
        "            root_dir (string) : Directory with all images, organized in class folders.\n",
        "            transform (callable, optional): Transformations to be applied.\n",
        "        \"\"\"\n",
        "\n",
        "        self.root_dir = root_dir\n",
        "        if transform is None:\n",
        "            self.transform = transformations\n",
        "        else:\n",
        "            self.transform = transform\n",
        "        self.image_paths = []\n",
        "        self.labels = []\n",
        "        self.classes = sorted(os.listdir(root_dir)) # returning the names of the folders as each name represents a class\n",
        "\n",
        "        # We load all images and their respective labels and append their paths to their corresponding lists.\n",
        "\n",
        "        for label_idx, class_folder in enumerate(self.classes):\n",
        "\n",
        "            class_folder_path = os.path.join(root_dir,class_folder)\n",
        "\n",
        "            for img_name in os.listdir(class_folder_path):\n",
        "\n",
        "                img_path = os.path.join(class_folder_path,img_name)\n",
        "\n",
        "                self.image_paths.append(img_path)\n",
        "\n",
        "                self.labels.append(label_idx)\n",
        "\n",
        "\n",
        "    def __len__(self):\n",
        "\n",
        "        return len(self.image_paths)\n",
        "\n",
        "    def __getitem__(self,idx):\n",
        "\n",
        "        img = Image.open(self.image_paths[idx]).convert('RGB')\n",
        "        label = self.labels[idx]\n",
        "\n",
        "        if self.transform:\n",
        "            image = self.transform(img)\n",
        "\n",
        "\n",
        "        return image,label\n",
        "\n"
      ],
      "metadata": {
        "id": "a1pCVe35HShN"
      },
      "execution_count": 6,
      "outputs": []
    },
    {
      "cell_type": "code",
      "source": [
        "TRAIN_DIR = \"/home/moayad/Downloads/StFX TA & XP & Student/advanced-project/DataSet_Splitted/train\"\n",
        "VAL_DIR = \"/home/moayad/Downloads/StFX TA & XP & Student/advanced-project/DataSet_Splitted/val\"\n",
        "TEST_DIR = \"/home/moayad/Downloads/StFX TA & XP & Student/advanced-project/DataSet_Splitted/test\"\n"
      ],
      "metadata": {
        "id": "Cu4le0qaHqv0"
      },
      "execution_count": 9,
      "outputs": []
    },
    {
      "cell_type": "code",
      "source": [
        "train_dataset = medicalImageDataset(root_dir=TRAIN_DIR, transform=transformations)\n",
        "train_loader = torch.utils.data.DataLoader(\n",
        "    train_dataset,\n",
        "    batch_size=BATCH_SIZE,\n",
        "    shuffle=True,\n",
        "    num_workers=4\n",
        ")\n",
        "\n",
        "val_dataset = medicalImageDataset(root_dir=VAL_DIR, transform=transformations)\n",
        "val_loader = torch.utils.data.DataLoader(\n",
        "    val_dataset,\n",
        "    batch_size=BATCH_SIZE,\n",
        "    shuffle=False,\n",
        "    num_workers=4\n",
        ")\n",
        "\n",
        "test_dataset = medicalImageDataset(root_dir=TEST_DIR, transform=transformations)\n",
        "test_loader = torch.utils.data.DataLoader(\n",
        "    test_dataset,\n",
        "    batch_size=BATCH_SIZE,\n",
        "    shuffle=False,\n",
        "    num_workers=4\n",
        ")"
      ],
      "metadata": {
        "id": "1Bkwp8I9IMMX"
      },
      "execution_count": 10,
      "outputs": []
    },
    {
      "cell_type": "markdown",
      "source": [
        "### Trainer"
      ],
      "metadata": {
        "id": "PYwX1xO9ITLF"
      }
    },
    {
      "cell_type": "code",
      "source": [
        "def computeAccuracy(outputs, labels):\n",
        "\n",
        "    \"\"\"Compute accuracy given outputs as logits.\n",
        "    \"\"\"\n",
        "\n",
        "    preds = torch.argmax(outputs, dim=1)\n",
        "    return torch.sum(preds == labels) / len(preds)\n"
      ],
      "metadata": {
        "id": "t7JNrjF-JN7f"
      },
      "execution_count": 11,
      "outputs": []
    },
    {
      "cell_type": "code",
      "source": [
        "class Trainer:\n",
        "\n",
        "    def __init__(self, model):\n",
        "\n",
        "        self.model = model\n",
        "        self.model.to(DEVICE)\n",
        "\n",
        "        self.criterion = nn.CrossEntropyLoss()\n",
        "        self.optimizer = optim.Adam(model.parameters(), lr=LEARNING_RATE)\n",
        "\n",
        "        self.train_losses = []\n",
        "        self.train_accuracies = []\n",
        "        self.val_losses = []\n",
        "        self.val_accuracies = []\n",
        "\n",
        "\n",
        "        # logging info\n",
        "        logging.basicConfig(stream=sys.stdout, level=logging.INFO, format=\"%(levelname)s | %(message)s\")\n",
        "        self.logger = logging.getLogger()\n",
        "\n",
        "    def train(self,train_loader=train_loader,val_loader=val_loader):\n",
        "\n",
        "        best_val_acc=0.0 # to save the best fitting model on the validation set\n",
        "\n",
        "        for epoch in range(NUM_EPOCHS):\n",
        "\n",
        "            self.model.train()\n",
        "\n",
        "            # loss tracking metrics\n",
        "\n",
        "            running_loss=0.0\n",
        "            running_vloss=0.0\n",
        "            batch_loss=0.0\n",
        "            running_acc=0.0\n",
        "            running_val_acc = 0\n",
        "\n",
        "            train_pbar = tqdm(enumerate(train_loader), total=len(train_loader))\n",
        "\n",
        "            for i, (inputs, labels) in train_pbar:\n",
        "\n",
        "                inputs, labels = inputs.to(DEVICE), labels.to(DEVICE)\n",
        "\n",
        "                self.optimizer.zero_grad()\n",
        "\n",
        "                outputs = self.model(inputs)\n",
        "\n",
        "                loss = self.criterion(outputs.logits, labels)\n",
        "\n",
        "                running_acc += computeAccuracy(outputs.logits, labels)\n",
        "\n",
        "                loss.backward()\n",
        "                self.optimizer.step()\n",
        "\n",
        "                running_loss += loss.item()\n",
        "                batch_loss += loss.item()\n",
        "\n",
        "                if i % 10 == 0: # calculate average loss across every 10 batches\n",
        "\n",
        "                    batch_loss = batch_loss / 10\n",
        "                    train_pbar.set_postfix({\"loss\": round(batch_loss,5)})\n",
        "                    batch_loss = 0.0\n",
        "\n",
        "\n",
        "            # now we compute the average loss and accuracy for each epoch\n",
        "            train_accuracy_per_epoch = running_acc / len(train_loader)\n",
        "            self.train_accuracies.append((epoch, train_accuracy_per_epoch.cpu()))\n",
        "\n",
        "            avg_loss = running_loss / len(train_loader)\n",
        "            self.train_losses.append((epoch, avg_loss))\n",
        "\n",
        "            # evaluating the model after certain number of epochs\n",
        "            if epoch % CHECK_VAL_EVERY_N_EPOCH == 0:\n",
        "\n",
        "                self.model.eval()\n",
        "\n",
        "                val_pbar = tqdm(enumerate(test_loader), total=len(test_loader))\n",
        "\n",
        "                with torch.no_grad():\n",
        "\n",
        "                    for i, (input,labels) in val_pbar:\n",
        "\n",
        "                        inputs, labels = input.to(DEVICE), labels.to(DEVICE)\n",
        "\n",
        "                        outputs = self.model(inputs)\n",
        "\n",
        "                        loss = self.criterion(outputs.logits, labels)\n",
        "\n",
        "                        running_vloss+= loss.item()\n",
        "\n",
        "                        # compute validation accuracy for this epoch\n",
        "\n",
        "                        running_val_acc += computeAccuracy(outputs.logits,labels)\n",
        "\n",
        "                val_accuracy_per_epoch = running_val_acc / len(val_loader)\n",
        "                self.val_accuracies.append((epoch, val_accuracy_per_epoch.cpu()))\n",
        "\n",
        "                avg_vloss = running_vloss / len(val_loader)\n",
        "                self.val_losses.append((epoch, avg_vloss))\n",
        "\n",
        "\t\t# save the best model achieving on val dataset\n",
        "                if val_accuracy_per_epoch > best_val_acc:\n",
        "\n",
        "                    best_val_acc = val_accuracy_per_epoch\n",
        "                    self.saveModel(f\"{epoch}_best_model_weights.pth\")\n",
        "\n",
        "                self.logger.info(\n",
        "                        f\"[EPOCH {epoch + 1}] Training Loss= {avg_loss} Validation Loss={avg_vloss} | Training Accuracy={train_accuracy_per_epoch} val={val_accuracy_per_epoch}\"\n",
        "                    )\n",
        "\n",
        "    def test(self, test_loader=test_loader, best_model_weights_path=None):\n",
        "\n",
        "        if best_model_weights_path is None:\n",
        "            pass\n",
        "        else:\n",
        "            self.model.load_state_dict(torch.load(best_model_weights_path))\n",
        "            print('Model into the path is loaded.')\n",
        "\n",
        "        correct = 0 # we want to know how many images in the test set was predicted correctly (matched the label) so we keep adding the results of this with each batch running with specific input.\n",
        "\n",
        "        self.model.eval()\n",
        "\n",
        "        test_pbar = tqdm(enumerate(test_loader), total=len(test_loader))\n",
        "\n",
        "        with torch.no_grad():\n",
        "\n",
        "            for i, (input, labels) in test_pbar:\n",
        "\n",
        "                inputs, labels = input.to(DEVICE), labels.to(DEVICE)\n",
        "\n",
        "                outputs = self.model(inputs)\n",
        "\n",
        "                correct+=computeAccuracy(outputs.logits,labels)\n",
        "\n",
        "        self.logger.info(f\"Test accuracy: {(correct / len(test_loader)) * 100}%\")\n",
        "\n",
        "    def saveModel(self, path):\n",
        "        torch.save(self.model.state_dict(), path)\n",
        "        self.logger.info(f\"Model Saved to {path}\")\n",
        "\n",
        "    def plotMetrics(self):\n",
        "\n",
        "          os.makedirs(\"plots\", exist_ok=True)\n",
        "\n",
        "          # extracting iterations and losses\n",
        "\n",
        "          t_iters = [item[0] for item in self.train_losses]\n",
        "          t_loss = [item[1] for item in self.train_losses]\n",
        "\n",
        "          # extracting validation losses without using zip\n",
        "          v_loss = [item[1] for item in self.val_losses]\n",
        "\n",
        "          # extracting train & val accuracies\n",
        "          acc = [item[1] for item in self.train_accuracies]\n",
        "          v_acc = [item[1] for item in self.val_accuracies]\n",
        "\n",
        "          fig, ax = plt.subplots(1,2, figsize=(12,5))\n",
        "          fig.suptitle(f\"EfficientNet Trained on Peripheral Blood Cells Dataset\")\n",
        "\n",
        "          ax[0].set_title(f\"Loss with Batch Size={BATCH_SIZE} & Learning Rate = {LEARNING_RATE}\")\n",
        "          ax[0].plot(t_iters, t_loss)\n",
        "          ax[0].plot(t_iters, v_loss)\n",
        "          ax[0].set_xlabel(\"Epochs\")\n",
        "          ax[0].set_ylabel(\"Loss\")\n",
        "          ax[0].legend([\"Train\", \"Validation\"])\n",
        "          ax[0].set_xticks(t_iters[::5])\n",
        "          ax[0].set_xticklabels(t_iters[::5], rotation=45)\n",
        "\n",
        "\n",
        "          ax[1].set_title(f\"Accuracy with Batch Size={BATCH_SIZE} & Learning Rate = {LEARNING_RATE}\")\n",
        "          ax[1].plot(t_iters,acc)\n",
        "          ax[1].plot(t_iters, v_acc)\n",
        "          ax[1].set_xlabel(\"Epochs\")\n",
        "          ax[1].set_ylabel(\"Accuracy\")\n",
        "          ax[1].legend([\"Train\", \"Validation\"])\n",
        "          ax[1].set_xticks(t_iters)\n",
        "\n",
        "          fig.savefig(f\"plots/evaluation_metrics.png\")\n",
        "          plt.show()"
      ],
      "metadata": {
        "id": "HYlJM7CuIU_R"
      },
      "execution_count": 12,
      "outputs": []
    },
    {
      "cell_type": "code",
      "source": [
        "model_trainer = Trainer(model=model)"
      ],
      "metadata": {
        "id": "8bUsamIKIlT8"
      },
      "execution_count": 13,
      "outputs": []
    },
    {
      "cell_type": "code",
      "source": [
        "model_trainer.train()"
      ],
      "metadata": {
        "colab": {
          "base_uri": "https://localhost:8080/"
        },
        "id": "McLqdV7iIxTb",
        "outputId": "8e64a563-101e-4da7-d5c1-610a12458f19"
      },
      "execution_count": 14,
      "outputs": [
        {
          "output_type": "stream",
          "name": "stderr",
          "text": [
            "100%|████████████████████████████| 855/855 [16:27<00:00,  1.15s/it, loss=0.0804]\n",
            "100%|█████████████████████████████████████████| 108/108 [00:53<00:00,  2.01it/s]\n"
          ]
        },
        {
          "output_type": "stream",
          "name": "stdout",
          "text": [
            "INFO | Model Saved to 0_best_model_weights.pth\n",
            "INFO | [EPOCH 1] Training Loss= 0.2481514757814986 Validation Loss=0.06537849580538328 | Training Accuracy=0.9418128728866577 val=0.9941588640213013\n"
          ]
        },
        {
          "output_type": "stream",
          "name": "stderr",
          "text": [
            "100%|████████████████████████████| 855/855 [16:26<00:00,  1.15s/it, loss=0.0328]\n",
            "100%|█████████████████████████████████████████| 108/108 [00:53<00:00,  2.01it/s]"
          ]
        },
        {
          "output_type": "stream",
          "name": "stdout",
          "text": [
            "INFO | [EPOCH 2] Training Loss= 0.07205383655184891 Validation Loss=0.06726309287831814 | Training Accuracy=0.9793128371238708 val=0.9889018535614014\n"
          ]
        },
        {
          "output_type": "stream",
          "name": "stderr",
          "text": [
            "\n",
            "100%|████████████████████████████| 855/855 [16:27<00:00,  1.15s/it, loss=0.0477]\n",
            "100%|█████████████████████████████████████████| 108/108 [00:53<00:00,  2.01it/s]"
          ]
        },
        {
          "output_type": "stream",
          "name": "stdout",
          "text": [
            "INFO | [EPOCH 3] Training Loss= 0.0499473225227312 Validation Loss=0.05317387280650611 | Training Accuracy=0.9848684072494507 val=0.9941588640213013\n"
          ]
        },
        {
          "output_type": "stream",
          "name": "stderr",
          "text": [
            "\n",
            "100%|████████████████████████████| 855/855 [16:27<00:00,  1.15s/it, loss=0.0123]\n",
            "100%|█████████████████████████████████████████| 108/108 [00:53<00:00,  2.01it/s]\n"
          ]
        },
        {
          "output_type": "stream",
          "name": "stdout",
          "text": [
            "INFO | Model Saved to 3_best_model_weights.pth\n",
            "INFO | [EPOCH 4] Training Loss= 0.03717905831038516 Validation Loss=0.04281415279832817 | Training Accuracy=0.9888157844543457 val=0.9970794320106506\n"
          ]
        },
        {
          "output_type": "stream",
          "name": "stderr",
          "text": [
            "100%|████████████████████████████| 855/855 [16:28<00:00,  1.16s/it, loss=0.0255]\n",
            "100%|█████████████████████████████████████████| 108/108 [00:53<00:00,  2.01it/s]"
          ]
        },
        {
          "output_type": "stream",
          "name": "stdout",
          "text": [
            "INFO | [EPOCH 5] Training Loss= 0.037022276884298884 Validation Loss=0.06624014639822226 | Training Accuracy=0.9886695742607117 val=0.9918224215507507\n"
          ]
        },
        {
          "output_type": "stream",
          "name": "stderr",
          "text": [
            "\n",
            "100%|████████████████████████████| 855/855 [16:27<00:00,  1.16s/it, loss=0.0178]\n",
            "100%|█████████████████████████████████████████| 108/108 [00:53<00:00,  2.00it/s]"
          ]
        },
        {
          "output_type": "stream",
          "name": "stdout",
          "text": [
            "INFO | [EPOCH 6] Training Loss= 0.026798083092023386 Validation Loss=0.05485004129700981 | Training Accuracy=0.9918859601020813 val=0.9929906129837036\n"
          ]
        },
        {
          "output_type": "stream",
          "name": "stderr",
          "text": [
            "\n",
            "100%|███████████████████████████| 855/855 [16:29<00:00,  1.16s/it, loss=0.00215]\n",
            "100%|█████████████████████████████████████████| 108/108 [00:53<00:00,  2.00it/s]\n"
          ]
        },
        {
          "output_type": "stream",
          "name": "stdout",
          "text": [
            "INFO | [EPOCH 7] Training Loss= 0.032536809863141405 Validation Loss=0.0687820054256144 | Training Accuracy=0.9910818338394165 val=0.9924064874649048\n"
          ]
        },
        {
          "output_type": "stream",
          "name": "stderr",
          "text": [
            "100%|███████████████████████████| 855/855 [16:27<00:00,  1.16s/it, loss=0.00241]\n",
            "100%|█████████████████████████████████████████| 108/108 [00:53<00:00,  2.01it/s]"
          ]
        },
        {
          "output_type": "stream",
          "name": "stdout",
          "text": [
            "INFO | [EPOCH 8] Training Loss= 0.02132316223704474 Validation Loss=0.07458422357590747 | Training Accuracy=0.993201732635498 val=0.9900700449943542\n"
          ]
        },
        {
          "output_type": "stream",
          "name": "stderr",
          "text": [
            "\n",
            "100%|███████████████████████████| 855/855 [16:26<00:00,  1.15s/it, loss=0.00516]\n",
            "100%|█████████████████████████████████████████| 108/108 [00:53<00:00,  2.01it/s]"
          ]
        },
        {
          "output_type": "stream",
          "name": "stdout",
          "text": [
            "INFO | [EPOCH 9] Training Loss= 0.02291906346541105 Validation Loss=0.06088103640228336 | Training Accuracy=0.9940058588981628 val=0.9941588640213013\n"
          ]
        },
        {
          "output_type": "stream",
          "name": "stderr",
          "text": [
            "\n",
            "100%|████████████████████████████| 855/855 [16:26<00:00,  1.15s/it, loss=0.0247]\n",
            "100%|█████████████████████████████████████████| 108/108 [00:53<00:00,  2.01it/s]"
          ]
        },
        {
          "output_type": "stream",
          "name": "stdout",
          "text": [
            "INFO | [EPOCH 10] Training Loss= 0.01613346366273043 Validation Loss=0.08118460681909591 | Training Accuracy=0.9953947067260742 val=0.9924064874649048\n"
          ]
        },
        {
          "output_type": "stream",
          "name": "stderr",
          "text": [
            "\n"
          ]
        }
      ]
    },
    {
      "cell_type": "code",
      "source": [
        "model_trainer.plotMetrics()"
      ],
      "metadata": {
        "colab": {
          "base_uri": "https://localhost:8080/",
          "height": 371
        },
        "id": "n0FTu8C7OFdt",
        "outputId": "71bed982-a7c3-4982-9eca-4db2a57d9403"
      },
      "execution_count": 16,
      "outputs": [
        {
          "output_type": "display_data",
          "data": {
            "text/plain": [
              "<Figure size 864x360 with 2 Axes>"
            ],
            "image/png": "[encoded data removed]"
          },
          "metadata": {
            "needs_background": "light"
          }
        }
      ]
    },
    {
      "cell_type": "code",
      "source": [
        "model_trainer.test(best_model_weights_path=\"/home/moayad/Downloads/StFX TA & XP & Student/advanced-project/3_best_model_weights.pth\") #pick up the path"
      ],
      "metadata": {
        "colab": {
          "base_uri": "https://localhost:8080/"
        },
        "id": "3vYuj5p67FgO",
        "outputId": "4cc9e0c3-96e3-432b-86e8-1ef7a0ccd7be"
      },
      "execution_count": 18,
      "outputs": [
        {
          "output_type": "stream",
          "name": "stderr",
          "text": [
            "/tmp/ipykernel_21869/1690756125.py:115: FutureWarning: You are using `torch.load` with `weights_only=False` (the current default value), which uses the default pickle module implicitly. It is possible to construct malicious pickle data which will execute arbitrary code during unpickling (See https://github.com/pytorch/pytorch/blob/main/SECURITY.md#untrusted-models for more details). In a future release, the default value for `weights_only` will be flipped to `True`. This limits the functions that could be executed during unpickling. Arbitrary objects will no longer be allowed to be loaded via this mode unless they are explicitly allowlisted by the user via `torch.serialization.add_safe_globals`. We recommend you start setting `weights_only=True` for any use case where you don't have full control of the loaded file. Please open an issue on GitHub for any issues related to this experimental feature.\n",
            "  self.model.load_state_dict(torch.load(best_model_weights_path))\n"
          ]
        },
        {
          "output_type": "stream",
          "name": "stdout",
          "text": [
            "Model into the path is loaded.\n"
          ]
        },
        {
          "output_type": "stream",
          "name": "stderr",
          "text": [
            "100%|█████████████████████████████████████████| 108/108 [00:52<00:00,  2.04it/s]"
          ]
        },
        {
          "output_type": "stream",
          "name": "stdout",
          "text": [
            "INFO | Test accuracy: 98.78472137451172%\n"
          ]
        },
        {
          "output_type": "stream",
          "name": "stderr",
          "text": [
            "\n"
          ]
        }
      ]
    },
    {
      "cell_type": "code",
      "source": [],
      "metadata": {
        "id": "BYq8V2z47OwQ"
      },
      "execution_count": null,
      "outputs": []
    }
  ]
}