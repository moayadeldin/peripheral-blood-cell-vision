{
  "cells": [
    {
      "cell_type": "code",
      "source": [
        "%cd /home/moayad/Downloads/StFX TA & XP & Student/advanced-project"
      ],
      "metadata": {
        "colab": {
          "base_uri": "https://localhost:8080/"
        },
        "id": "raQfl87Z2aXm",
        "outputId": "35d0dc5e-8558-4541-d645-f6cecb6c6c70"
      },
      "execution_count": null,
      "outputs": [
        {
          "output_type": "stream",
          "name": "stdout",
          "text": [
            "/home/moayad/Downloads/StFX TA & XP & Student/advanced-project\n"
          ]
        }
      ]
    },
    {
      "cell_type": "code",
      "execution_count": null,
      "metadata": {
        "colab": {
          "base_uri": "https://localhost:8080/"
        },
        "id": "YEWzaaIkwOOV",
        "outputId": "e1274e19-f88e-4f32-b367-55a733055c37"
      },
      "outputs": [
        {
          "output_type": "stream",
          "name": "stdout",
          "text": [
            "dataset.py\t  plots        README.md  trainer.py\r\n",
            "DataSet_Splitted  __pycache__  resnet.py  utilities.py\r\n"
          ]
        }
      ],
      "source": [
        "!ls"
      ]
    },
    {
      "cell_type": "code",
      "source": [
        "from trainer import Trainer\n",
        "from resnet import adjustedResNet50"
      ],
      "metadata": {
        "colab": {
          "base_uri": "https://localhost:8080/"
        },
        "id": "yyO6H3wJKRoR",
        "outputId": "b95075aa-8e19-44fb-d2d5-6218c78f9120"
      },
      "execution_count": null,
      "outputs": [
        {
          "output_type": "stream",
          "name": "stderr",
          "text": [
            "/home/moayad/.local/lib/python3.10/site-packages/matplotlib/projections/__init__.py:63: UserWarning: Unable to import Axes3D. This may be due to multiple versions of Matplotlib being installed (e.g. as a system package and as a pip package). As a result, the 3D projection is not available.\n",
            "  warnings.warn(\"Unable to import Axes3D. This may be due to multiple versions of \"\n"
          ]
        }
      ]
    },
    {
      "cell_type": "code",
      "source": [
        "model = adjustedResNet50()"
      ],
      "metadata": {
        "id": "lCOnZg4To0XQ"
      },
      "execution_count": null,
      "outputs": []
    },
    {
      "cell_type": "code",
      "source": [
        "model_trainer = Trainer(model=model)"
      ],
      "metadata": {
        "id": "9hNv2HkBHvpY"
      },
      "execution_count": null,
      "outputs": []
    },
    {
      "cell_type": "code",
      "source": [
        "model_trainer.train()"
      ],
      "metadata": {
        "colab": {
          "base_uri": "https://localhost:8080/"
        },
        "id": "M1vMe4dUH56h",
        "outputId": "c9f8f390-3e39-422e-dbd4-cbb804bb288c"
      },
      "execution_count": null,
      "outputs": [
        {
          "output_type": "stream",
          "name": "stderr",
          "text": [
            "100%|██████████████████████████████| 855/855 [04:24<00:00,  3.23it/s, loss=1.36]\n",
            "100%|█████████████████████████████████████████| 108/108 [00:10<00:00, 10.61it/s]\n"
          ]
        },
        {
          "output_type": "stream",
          "name": "stdout",
          "text": [
            "INFO | Model Saved to 0_best_model_weights.pth\n",
            "INFO | [EPOCH 1] Training Loss= 1.411155298578809 Validation Loss=1.3159441000947327 | Training Accuracy=0.8678153157234192 val=0.9801401495933533\n"
          ]
        },
        {
          "output_type": "stream",
          "name": "stderr",
          "text": [
            "100%|██████████████████████████████| 855/855 [04:23<00:00,  3.25it/s, loss=1.33]\n",
            "100%|█████████████████████████████████████████| 108/108 [00:09<00:00, 10.84it/s]"
          ]
        },
        {
          "output_type": "stream",
          "name": "stdout",
          "text": [
            "INFO | [EPOCH 2] Training Loss= 1.339004081313373 Validation Loss=1.3615450090337022 | Training Accuracy=0.9359962344169617 val=0.9375\n"
          ]
        },
        {
          "output_type": "stream",
          "name": "stderr",
          "text": [
            "\n",
            "100%|██████████████████████████████| 855/855 [04:24<00:00,  3.24it/s, loss=1.29]\n",
            "100%|█████████████████████████████████████████| 108/108 [00:10<00:00, 10.62it/s]\n"
          ]
        },
        {
          "output_type": "stream",
          "name": "stdout",
          "text": [
            "INFO | Model Saved to 2_best_model_weights.pth\n",
            "INFO | [EPOCH 3] Training Loss= 1.3238480506584658 Validation Loss=1.3123978610350706 | Training Accuracy=0.9508562684059143 val=0.9813084006309509\n"
          ]
        },
        {
          "output_type": "stream",
          "name": "stderr",
          "text": [
            "100%|██████████████████████████████| 855/855 [04:23<00:00,  3.25it/s, loss=1.29]\n",
            "100%|█████████████████████████████████████████| 108/108 [00:09<00:00, 10.80it/s]\n"
          ]
        },
        {
          "output_type": "stream",
          "name": "stdout",
          "text": [
            "INFO | Model Saved to 3_best_model_weights.pth\n",
            "INFO | [EPOCH 4] Training Loss= 1.3195384942997268 Validation Loss=1.310614087871302 | Training Accuracy=0.9545321464538574 val=0.9865654110908508\n"
          ]
        },
        {
          "output_type": "stream",
          "name": "stderr",
          "text": [
            "100%|██████████████████████████████| 855/855 [04:22<00:00,  3.25it/s, loss=1.33]\n",
            "100%|█████████████████████████████████████████| 108/108 [00:09<00:00, 10.90it/s]"
          ]
        },
        {
          "output_type": "stream",
          "name": "stdout",
          "text": [
            "INFO | [EPOCH 5] Training Loss= 1.314811571160255 Validation Loss=1.3124554870284606 | Training Accuracy=0.9598684310913086 val=0.9830607175827026\n"
          ]
        },
        {
          "output_type": "stream",
          "name": "stderr",
          "text": [
            "\n",
            "100%|██████████████████████████████| 855/855 [04:22<00:00,  3.26it/s, loss=1.29]\n",
            "100%|█████████████████████████████████████████| 108/108 [00:10<00:00, 10.78it/s]\n"
          ]
        },
        {
          "output_type": "stream",
          "name": "stdout",
          "text": [
            "INFO | Model Saved to 5_best_model_weights.pth\n",
            "INFO | [EPOCH 6] Training Loss= 1.3225337123313146 Validation Loss=1.3066725641767556 | Training Accuracy=0.9510964751243591 val=0.9883177280426025\n"
          ]
        },
        {
          "output_type": "stream",
          "name": "stderr",
          "text": [
            "100%|██████████████████████████████| 855/855 [04:23<00:00,  3.24it/s, loss=1.31]\n",
            "100%|█████████████████████████████████████████| 108/108 [00:10<00:00, 10.59it/s]\n"
          ]
        },
        {
          "output_type": "stream",
          "name": "stdout",
          "text": [
            "INFO | Model Saved to 6_best_model_weights.pth\n",
            "INFO | [EPOCH 7] Training Loss= 1.308969916237725 Validation Loss=1.3013544739963852 | Training Accuracy=0.965350866317749 val=0.9935747385025024\n"
          ]
        },
        {
          "output_type": "stream",
          "name": "stderr",
          "text": [
            "100%|██████████████████████████████| 855/855 [04:24<00:00,  3.23it/s, loss=1.33]\n",
            "100%|█████████████████████████████████████████| 108/108 [00:10<00:00, 10.64it/s]"
          ]
        },
        {
          "output_type": "stream",
          "name": "stdout",
          "text": [
            "INFO | [EPOCH 8] Training Loss= 1.313274581808793 Validation Loss=1.3440475397020857 | Training Accuracy=0.9606307148933411 val=0.9503504633903503\n"
          ]
        },
        {
          "output_type": "stream",
          "name": "stderr",
          "text": [
            "\n",
            "100%|██████████████████████████████| 855/855 [04:23<00:00,  3.24it/s, loss=1.29]\n",
            "100%|█████████████████████████████████████████| 108/108 [00:10<00:00, 10.67it/s]"
          ]
        },
        {
          "output_type": "stream",
          "name": "stdout",
          "text": [
            "INFO | [EPOCH 9] Training Loss= 1.3134137722483852 Validation Loss=1.3076952974372935 | Training Accuracy=0.9606515765190125 val=0.9871494770050049\n"
          ]
        },
        {
          "output_type": "stream",
          "name": "stderr",
          "text": [
            "\n",
            "100%|██████████████████████████████| 855/855 [04:24<00:00,  3.23it/s, loss=1.35]\n",
            "100%|█████████████████████████████████████████| 108/108 [00:10<00:00, 10.73it/s]"
          ]
        },
        {
          "output_type": "stream",
          "name": "stdout",
          "text": [
            "INFO | [EPOCH 10] Training Loss= 1.305719286377667 Validation Loss=1.3191786313725409 | Training Accuracy=0.9686403274536133 val=0.9766354560852051\n"
          ]
        },
        {
          "output_type": "stream",
          "name": "stderr",
          "text": [
            "\n"
          ]
        }
      ]
    },
    {
      "cell_type": "code",
      "source": [
        "model_trainer.plotMetrics()"
      ],
      "metadata": {
        "colab": {
          "base_uri": "https://localhost:8080/",
          "height": 391
        },
        "id": "Wtc-7-LNuLzq",
        "outputId": "0f301c32-42fc-453e-80e0-30307b8ad9eb"
      },
      "execution_count": null,
      "outputs": [
        {
          "output_type": "display_data",
          "data": {
            "text/plain": [
              "<Figure size 864x360 with 2 Axes>"
            ],
            "image/png": "[encoded data removed]"
          },
          "metadata": {
            "needs_background": "light"
          }
        }
      ]
    },
    {
      "cell_type": "code",
      "source": [
        "model_trainer.test(best_model_weights_path=\"/home/moayad/Downloads/StFX TA & XP & Student/advanced-project/6_best_model_weights.pth\") #pick up the path"
      ],
      "metadata": {
        "colab": {
          "base_uri": "https://localhost:8080/"
        },
        "id": "ocoeXKbBIvyi",
        "outputId": "32402bbc-3241-4fe3-87f0-025e4e512d68"
      },
      "execution_count": null,
      "outputs": [
        {
          "output_type": "stream",
          "name": "stderr",
          "text": [
            "/home/moayad/Downloads/StFX TA & XP & Student/advanced-project/trainer.py:162: FutureWarning: You are using `torch.load` with `weights_only=False` (the current default value), which uses the default pickle module implicitly. It is possible to construct malicious pickle data which will execute arbitrary code during unpickling (See https://github.com/pytorch/pytorch/blob/main/SECURITY.md#untrusted-models for more details). In a future release, the default value for `weights_only` will be flipped to `True`. This limits the functions that could be executed during unpickling. Arbitrary objects will no longer be allowed to be loaded via this mode unless they are explicitly allowlisted by the user via `torch.serialization.add_safe_globals`. We recommend you start setting `weights_only=True` for any use case where you don't have full control of the loaded file. Please open an issue on GitHub for any issues related to this experimental feature.\n",
            "  self.model.load_state_dict(torch.load(best_model_weights_path))\n"
          ]
        },
        {
          "output_type": "stream",
          "name": "stdout",
          "text": [
            "Model into the path is loaded.\n"
          ]
        },
        {
          "output_type": "stream",
          "name": "stderr",
          "text": [
            "100%|█████████████████████████████████████████| 108/108 [00:09<00:00, 11.62it/s]"
          ]
        },
        {
          "output_type": "stream",
          "name": "stdout",
          "text": [
            "INFO | Test accuracy: 98.4375%\n"
          ]
        },
        {
          "output_type": "stream",
          "name": "stderr",
          "text": [
            "\n"
          ]
        }
      ]
    },
    {
      "cell_type": "code",
      "source": [],
      "metadata": {
        "id": "cxxo1CMPI6x6"
      },
      "execution_count": null,
      "outputs": []
    }
  ],
  "metadata": {
    "colab": {
      "provenance": [],
      "gpuType": "T4"
    },
    "kernelspec": {
      "display_name": "Python 3",
      "name": "python3"
    },
    "language_info": {
      "name": "python"
    },
    "accelerator": "GPU"
  },
  "nbformat": 4,
  "nbformat_minor": 0
}